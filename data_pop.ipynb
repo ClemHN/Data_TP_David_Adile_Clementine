{
 "cells": [
  {
   "cell_type": "code",
   "execution_count": 1,
   "id": "402ae0f0",
   "metadata": {},
   "outputs": [
    {
     "name": "stdout",
     "output_type": "stream",
     "text": [
      "Index(['Code Pays', 'Pays', 'Groupe de pays', 'Code ISO3'], dtype='object')\n",
      "Index(['Code Pays', 'Pays', 'Valeur'], dtype='object')\n"
     ]
    },
    {
     "data": {
      "text/plain": [
       "Index(['Code Pays', 'Pays_x', 'Groupe de pays', 'Code ISO3', 'Valeur'], dtype='object')"
      ]
     },
     "metadata": {},
     "output_type": "display_data"
    },
    {
     "data": {
      "text/html": [
       "<div>\n",
       "<style scoped>\n",
       "    .dataframe tbody tr th:only-of-type {\n",
       "        vertical-align: middle;\n",
       "    }\n",
       "\n",
       "    .dataframe tbody tr th {\n",
       "        vertical-align: top;\n",
       "    }\n",
       "\n",
       "    .dataframe thead th {\n",
       "        text-align: right;\n",
       "    }\n",
       "</style>\n",
       "<table border=\"1\" class=\"dataframe\">\n",
       "  <thead>\n",
       "    <tr style=\"text-align: right;\">\n",
       "      <th></th>\n",
       "      <th>Code Pays</th>\n",
       "      <th>Pays_x</th>\n",
       "      <th>Groupe de pays</th>\n",
       "      <th>Code ISO3</th>\n",
       "      <th>Valeur</th>\n",
       "    </tr>\n",
       "  </thead>\n",
       "  <tbody>\n",
       "    <tr>\n",
       "      <th>0</th>\n",
       "      <td>202</td>\n",
       "      <td>Afrique du Sud</td>\n",
       "      <td>Afrique</td>\n",
       "      <td>ZAF</td>\n",
       "      <td>2.6</td>\n",
       "    </tr>\n",
       "    <tr>\n",
       "      <th>1</th>\n",
       "      <td>4</td>\n",
       "      <td>Algérie</td>\n",
       "      <td>Afrique</td>\n",
       "      <td>DZA</td>\n",
       "      <td>1.8</td>\n",
       "    </tr>\n",
       "    <tr>\n",
       "      <th>2</th>\n",
       "      <td>7</td>\n",
       "      <td>Angola</td>\n",
       "      <td>Afrique</td>\n",
       "      <td>AGO</td>\n",
       "      <td>8.0</td>\n",
       "    </tr>\n",
       "    <tr>\n",
       "      <th>3</th>\n",
       "      <td>53</td>\n",
       "      <td>Bénin</td>\n",
       "      <td>Afrique</td>\n",
       "      <td>BEN</td>\n",
       "      <td>1.0</td>\n",
       "    </tr>\n",
       "    <tr>\n",
       "      <th>4</th>\n",
       "      <td>20</td>\n",
       "      <td>Botswana</td>\n",
       "      <td>Afrique</td>\n",
       "      <td>BWA</td>\n",
       "      <td>0.5</td>\n",
       "    </tr>\n",
       "    <tr>\n",
       "      <th>...</th>\n",
       "      <td>...</td>\n",
       "      <td>...</td>\n",
       "      <td>...</td>\n",
       "      <td>...</td>\n",
       "      <td>...</td>\n",
       "    </tr>\n",
       "    <tr>\n",
       "      <th>143</th>\n",
       "      <td>249</td>\n",
       "      <td>Yémen</td>\n",
       "      <td>Asie</td>\n",
       "      <td>YEM</td>\n",
       "      <td>7.1</td>\n",
       "    </tr>\n",
       "    <tr>\n",
       "      <th>144</th>\n",
       "      <td>3</td>\n",
       "      <td>Albanie</td>\n",
       "      <td>Europe</td>\n",
       "      <td>ALB</td>\n",
       "      <td>0.2</td>\n",
       "    </tr>\n",
       "    <tr>\n",
       "      <th>151</th>\n",
       "      <td>27</td>\n",
       "      <td>Bulgarie</td>\n",
       "      <td>Europe</td>\n",
       "      <td>BGR</td>\n",
       "      <td>0.3</td>\n",
       "    </tr>\n",
       "    <tr>\n",
       "      <th>177</th>\n",
       "      <td>272</td>\n",
       "      <td>Serbie</td>\n",
       "      <td>Europe</td>\n",
       "      <td>SRB</td>\n",
       "      <td>0.5</td>\n",
       "    </tr>\n",
       "    <tr>\n",
       "      <th>178</th>\n",
       "      <td>199</td>\n",
       "      <td>Slovaquie</td>\n",
       "      <td>Europe</td>\n",
       "      <td>SVK</td>\n",
       "      <td>0.2</td>\n",
       "    </tr>\n",
       "  </tbody>\n",
       "</table>\n",
       "<p>97 rows × 5 columns</p>\n",
       "</div>"
      ],
      "text/plain": [
       "     Code Pays          Pays_x Groupe de pays Code ISO3  Valeur\n",
       "0          202  Afrique du Sud        Afrique       ZAF     2.6\n",
       "1            4         Algérie        Afrique       DZA     1.8\n",
       "2            7          Angola        Afrique       AGO     8.0\n",
       "3           53           Bénin        Afrique       BEN     1.0\n",
       "4           20        Botswana        Afrique       BWA     0.5\n",
       "..         ...             ...            ...       ...     ...\n",
       "143        249           Yémen           Asie       YEM     7.1\n",
       "144          3         Albanie         Europe       ALB     0.2\n",
       "151         27        Bulgarie         Europe       BGR     0.3\n",
       "177        272          Serbie         Europe       SRB     0.5\n",
       "178        199       Slovaquie         Europe       SVK     0.2\n",
       "\n",
       "[97 rows x 5 columns]"
      ]
     },
     "metadata": {},
     "output_type": "display_data"
    },
    {
     "data": {
      "application/vnd.plotly.v1+json": {
       "config": {
        "plotlyServerURL": "https://plot.ly"
       },
       "data": [
        {
         "coloraxis": "coloraxis",
         "geo": "geo",
         "hovertemplate": "<b>%{hovertext}</b><br><br>Code ISO3=%{location}<br>Valeur=%{z}<extra></extra>",
         "hovertext": [
          "Afrique du Sud",
          "Algérie",
          "Angola",
          "Bénin",
          "Botswana",
          "Burkina Faso",
          "Cameroun",
          "Congo",
          "Côte d'Ivoire",
          "Djibouti",
          "Égypte",
          "Eswatini",
          "Éthiopie",
          "Gabon",
          "Gambie",
          "Ghana",
          "Guinée",
          "Guinée-Bissau",
          "Kenya",
          "Lesotho",
          "Libéria",
          "Madagascar",
          "Malawi",
          "Mali",
          "Maroc",
          "Mauritanie",
          "Mozambique",
          "Namibie",
          "Niger",
          "Nigéria",
          "Ouganda",
          "République centrafricaine",
          "République-Unie de Tanzanie",
          "Rwanda",
          "Sénégal",
          "Sierra Leone",
          "Soudan",
          "Tchad",
          "Togo",
          "Tunisie",
          "Zambie",
          "Zimbabwe",
          "Argentine",
          "Bolivie (État plurinational de)",
          "Chili",
          "Colombie",
          "Costa Rica",
          "El Salvador",
          "Équateur",
          "Guatemala",
          "Haïti",
          "Honduras",
          "Jamaïque",
          "Mexique",
          "Nicaragua",
          "Panama",
          "Paraguay",
          "Pérou",
          "République dominicaine",
          "Venezuela (République bolivarienne du)",
          "Afghanistan",
          "Arabie saoudite",
          "Arménie",
          "Bangladesh",
          "Cambodge",
          "Chine",
          "Chine, continentale",
          "Chine, Taiwan Province de",
          "Émirats arabes unis",
          "Géorgie",
          "Inde",
          "Indonésie",
          "Iran (République islamique d')",
          "Iraq",
          "Jordanie",
          "Kirghizistan",
          "Liban",
          "Malaisie",
          "Mongolie",
          "Myanmar",
          "Népal",
          "Oman",
          "Ouzbékistan",
          "Pakistan",
          "Philippines",
          "République démocratique populaire lao",
          "République populaire démocratique de Corée",
          "Sri Lanka",
          "Thaïlande",
          "Timor-Leste",
          "Turkménistan",
          "Viet Nam",
          "Yémen",
          "Albanie",
          "Bulgarie",
          "Serbie",
          "Slovaquie"
         ],
         "locationmode": "ISO-3",
         "locations": [
          "ZAF",
          "DZA",
          "AGO",
          "BEN",
          "BWA",
          "BFA",
          "CMR",
          "COG",
          "CIV",
          "DJI",
          "EGY",
          "SWZ",
          "ETH",
          "GAB",
          "GMB",
          "GHA",
          "GIN",
          "GNB",
          "KEN",
          "LSO",
          "LBR",
          "MDG",
          "MWI",
          "MLI",
          "MAR",
          "MRT",
          "MOZ",
          "NAM",
          "NER",
          "NGA",
          "UGA",
          "CAF",
          "TZA",
          "RWA",
          "SEN",
          "SLE",
          "SDN",
          "TCD",
          "TGO",
          "TUN",
          "ZMB",
          "ZWE",
          "ARG",
          "BOL",
          "CHL",
          "COL",
          "CRI",
          "SLV",
          "ECU",
          "GTM",
          "HTI",
          "HND",
          "JAM",
          "MEX",
          "NIC",
          "PAN",
          "PRY",
          "PER",
          "DOM",
          "VEN",
          "AFG",
          "SAU",
          "ARM",
          "BGD",
          "KHM",
          "CHN",
          "F41",
          "TWN",
          "ARE",
          "GEO",
          "IND",
          "IDN",
          "IRN",
          "IRQ",
          "JOR",
          "KGZ",
          "LBN",
          "MYS",
          "MNG",
          "MMR",
          "NPL",
          "OMN",
          "UZB",
          "PAK",
          "PHL",
          "LAO",
          "PRK",
          "LKA",
          "THA",
          "TLS",
          "TKM",
          "VNM",
          "YEM",
          "ALB",
          "BGR",
          "SRB",
          "SVK"
         ],
         "name": "",
         "type": "choropleth",
         "z": [
          2.6,
          1.8,
          8,
          1,
          0.5,
          3.5,
          1.6,
          1.8,
          4.7,
          0.2,
          3.9,
          0.3,
          25.5,
          0.2,
          0.2,
          1.7,
          1.9,
          0.4,
          9.3,
          0.3,
          1.6,
          8.2,
          3.7,
          1,
          1.4,
          0.3,
          7.7,
          0.7,
          1.9,
          12.2,
          12.6,
          2.1,
          16.5,
          3.5,
          1.8,
          1.7,
          9.3,
          4.9,
          1.3,
          0.5,
          7,
          6.7,
          1.5,
          2.2,
          0.6,
          4.2,
          0.3,
          0.7,
          1.3,
          2.6,
          5.2,
          1.3,
          0.3,
          5.4,
          1.1,
          0.4,
          0.8,
          2.8,
          1.3,
          1.8,
          8.1,
          1.6,
          0.1,
          26.4,
          2.8,
          137.3,
          136.2,
          1,
          0.4,
          0.3,
          213.1,
          19.1,
          4.2,
          9.3,
          0.9,
          0.4,
          0.5,
          1,
          0.5,
          6.5,
          2.6,
          0.2,
          2.2,
          38.4,
          14,
          1.2,
          10.4,
          2.4,
          6.1,
          0.3,
          0.3,
          11.1,
          7.1,
          0.2,
          0.3,
          0.5,
          0.2
         ]
        }
       ],
       "layout": {
        "coloraxis": {
         "colorbar": {
          "title": {
           "text": "Valeur"
          }
         },
         "colorscale": [
          [
           0,
           "#0d0887"
          ],
          [
           0.1111111111111111,
           "#46039f"
          ],
          [
           0.2222222222222222,
           "#7201a8"
          ],
          [
           0.3333333333333333,
           "#9c179e"
          ],
          [
           0.4444444444444444,
           "#bd3786"
          ],
          [
           0.5555555555555556,
           "#d8576b"
          ],
          [
           0.6666666666666666,
           "#ed7953"
          ],
          [
           0.7777777777777778,
           "#fb9f3a"
          ],
          [
           0.8888888888888888,
           "#fdca26"
          ],
          [
           1,
           "#f0f921"
          ]
         ]
        },
        "geo": {
         "center": {},
         "domain": {
          "x": [
           0,
           1
          ],
          "y": [
           0,
           1
          ]
         },
         "projection": {
          "type": "natural earth"
         }
        },
        "legend": {
         "tracegroupgap": 0
        },
        "margin": {
         "t": 60
        },
        "template": {
         "data": {
          "bar": [
           {
            "error_x": {
             "color": "#2a3f5f"
            },
            "error_y": {
             "color": "#2a3f5f"
            },
            "marker": {
             "line": {
              "color": "#E5ECF6",
              "width": 0.5
             },
             "pattern": {
              "fillmode": "overlay",
              "size": 10,
              "solidity": 0.2
             }
            },
            "type": "bar"
           }
          ],
          "barpolar": [
           {
            "marker": {
             "line": {
              "color": "#E5ECF6",
              "width": 0.5
             },
             "pattern": {
              "fillmode": "overlay",
              "size": 10,
              "solidity": 0.2
             }
            },
            "type": "barpolar"
           }
          ],
          "carpet": [
           {
            "aaxis": {
             "endlinecolor": "#2a3f5f",
             "gridcolor": "white",
             "linecolor": "white",
             "minorgridcolor": "white",
             "startlinecolor": "#2a3f5f"
            },
            "baxis": {
             "endlinecolor": "#2a3f5f",
             "gridcolor": "white",
             "linecolor": "white",
             "minorgridcolor": "white",
             "startlinecolor": "#2a3f5f"
            },
            "type": "carpet"
           }
          ],
          "choropleth": [
           {
            "colorbar": {
             "outlinewidth": 0,
             "ticks": ""
            },
            "type": "choropleth"
           }
          ],
          "contour": [
           {
            "colorbar": {
             "outlinewidth": 0,
             "ticks": ""
            },
            "colorscale": [
             [
              0,
              "#0d0887"
             ],
             [
              0.1111111111111111,
              "#46039f"
             ],
             [
              0.2222222222222222,
              "#7201a8"
             ],
             [
              0.3333333333333333,
              "#9c179e"
             ],
             [
              0.4444444444444444,
              "#bd3786"
             ],
             [
              0.5555555555555556,
              "#d8576b"
             ],
             [
              0.6666666666666666,
              "#ed7953"
             ],
             [
              0.7777777777777778,
              "#fb9f3a"
             ],
             [
              0.8888888888888888,
              "#fdca26"
             ],
             [
              1,
              "#f0f921"
             ]
            ],
            "type": "contour"
           }
          ],
          "contourcarpet": [
           {
            "colorbar": {
             "outlinewidth": 0,
             "ticks": ""
            },
            "type": "contourcarpet"
           }
          ],
          "heatmap": [
           {
            "colorbar": {
             "outlinewidth": 0,
             "ticks": ""
            },
            "colorscale": [
             [
              0,
              "#0d0887"
             ],
             [
              0.1111111111111111,
              "#46039f"
             ],
             [
              0.2222222222222222,
              "#7201a8"
             ],
             [
              0.3333333333333333,
              "#9c179e"
             ],
             [
              0.4444444444444444,
              "#bd3786"
             ],
             [
              0.5555555555555556,
              "#d8576b"
             ],
             [
              0.6666666666666666,
              "#ed7953"
             ],
             [
              0.7777777777777778,
              "#fb9f3a"
             ],
             [
              0.8888888888888888,
              "#fdca26"
             ],
             [
              1,
              "#f0f921"
             ]
            ],
            "type": "heatmap"
           }
          ],
          "heatmapgl": [
           {
            "colorbar": {
             "outlinewidth": 0,
             "ticks": ""
            },
            "colorscale": [
             [
              0,
              "#0d0887"
             ],
             [
              0.1111111111111111,
              "#46039f"
             ],
             [
              0.2222222222222222,
              "#7201a8"
             ],
             [
              0.3333333333333333,
              "#9c179e"
             ],
             [
              0.4444444444444444,
              "#bd3786"
             ],
             [
              0.5555555555555556,
              "#d8576b"
             ],
             [
              0.6666666666666666,
              "#ed7953"
             ],
             [
              0.7777777777777778,
              "#fb9f3a"
             ],
             [
              0.8888888888888888,
              "#fdca26"
             ],
             [
              1,
              "#f0f921"
             ]
            ],
            "type": "heatmapgl"
           }
          ],
          "histogram": [
           {
            "marker": {
             "pattern": {
              "fillmode": "overlay",
              "size": 10,
              "solidity": 0.2
             }
            },
            "type": "histogram"
           }
          ],
          "histogram2d": [
           {
            "colorbar": {
             "outlinewidth": 0,
             "ticks": ""
            },
            "colorscale": [
             [
              0,
              "#0d0887"
             ],
             [
              0.1111111111111111,
              "#46039f"
             ],
             [
              0.2222222222222222,
              "#7201a8"
             ],
             [
              0.3333333333333333,
              "#9c179e"
             ],
             [
              0.4444444444444444,
              "#bd3786"
             ],
             [
              0.5555555555555556,
              "#d8576b"
             ],
             [
              0.6666666666666666,
              "#ed7953"
             ],
             [
              0.7777777777777778,
              "#fb9f3a"
             ],
             [
              0.8888888888888888,
              "#fdca26"
             ],
             [
              1,
              "#f0f921"
             ]
            ],
            "type": "histogram2d"
           }
          ],
          "histogram2dcontour": [
           {
            "colorbar": {
             "outlinewidth": 0,
             "ticks": ""
            },
            "colorscale": [
             [
              0,
              "#0d0887"
             ],
             [
              0.1111111111111111,
              "#46039f"
             ],
             [
              0.2222222222222222,
              "#7201a8"
             ],
             [
              0.3333333333333333,
              "#9c179e"
             ],
             [
              0.4444444444444444,
              "#bd3786"
             ],
             [
              0.5555555555555556,
              "#d8576b"
             ],
             [
              0.6666666666666666,
              "#ed7953"
             ],
             [
              0.7777777777777778,
              "#fb9f3a"
             ],
             [
              0.8888888888888888,
              "#fdca26"
             ],
             [
              1,
              "#f0f921"
             ]
            ],
            "type": "histogram2dcontour"
           }
          ],
          "mesh3d": [
           {
            "colorbar": {
             "outlinewidth": 0,
             "ticks": ""
            },
            "type": "mesh3d"
           }
          ],
          "parcoords": [
           {
            "line": {
             "colorbar": {
              "outlinewidth": 0,
              "ticks": ""
             }
            },
            "type": "parcoords"
           }
          ],
          "pie": [
           {
            "automargin": true,
            "type": "pie"
           }
          ],
          "scatter": [
           {
            "fillpattern": {
             "fillmode": "overlay",
             "size": 10,
             "solidity": 0.2
            },
            "type": "scatter"
           }
          ],
          "scatter3d": [
           {
            "line": {
             "colorbar": {
              "outlinewidth": 0,
              "ticks": ""
             }
            },
            "marker": {
             "colorbar": {
              "outlinewidth": 0,
              "ticks": ""
             }
            },
            "type": "scatter3d"
           }
          ],
          "scattercarpet": [
           {
            "marker": {
             "colorbar": {
              "outlinewidth": 0,
              "ticks": ""
             }
            },
            "type": "scattercarpet"
           }
          ],
          "scattergeo": [
           {
            "marker": {
             "colorbar": {
              "outlinewidth": 0,
              "ticks": ""
             }
            },
            "type": "scattergeo"
           }
          ],
          "scattergl": [
           {
            "marker": {
             "colorbar": {
              "outlinewidth": 0,
              "ticks": ""
             }
            },
            "type": "scattergl"
           }
          ],
          "scattermapbox": [
           {
            "marker": {
             "colorbar": {
              "outlinewidth": 0,
              "ticks": ""
             }
            },
            "type": "scattermapbox"
           }
          ],
          "scatterpolar": [
           {
            "marker": {
             "colorbar": {
              "outlinewidth": 0,
              "ticks": ""
             }
            },
            "type": "scatterpolar"
           }
          ],
          "scatterpolargl": [
           {
            "marker": {
             "colorbar": {
              "outlinewidth": 0,
              "ticks": ""
             }
            },
            "type": "scatterpolargl"
           }
          ],
          "scatterternary": [
           {
            "marker": {
             "colorbar": {
              "outlinewidth": 0,
              "ticks": ""
             }
            },
            "type": "scatterternary"
           }
          ],
          "surface": [
           {
            "colorbar": {
             "outlinewidth": 0,
             "ticks": ""
            },
            "colorscale": [
             [
              0,
              "#0d0887"
             ],
             [
              0.1111111111111111,
              "#46039f"
             ],
             [
              0.2222222222222222,
              "#7201a8"
             ],
             [
              0.3333333333333333,
              "#9c179e"
             ],
             [
              0.4444444444444444,
              "#bd3786"
             ],
             [
              0.5555555555555556,
              "#d8576b"
             ],
             [
              0.6666666666666666,
              "#ed7953"
             ],
             [
              0.7777777777777778,
              "#fb9f3a"
             ],
             [
              0.8888888888888888,
              "#fdca26"
             ],
             [
              1,
              "#f0f921"
             ]
            ],
            "type": "surface"
           }
          ],
          "table": [
           {
            "cells": {
             "fill": {
              "color": "#EBF0F8"
             },
             "line": {
              "color": "white"
             }
            },
            "header": {
             "fill": {
              "color": "#C8D4E3"
             },
             "line": {
              "color": "white"
             }
            },
            "type": "table"
           }
          ]
         },
         "layout": {
          "annotationdefaults": {
           "arrowcolor": "#2a3f5f",
           "arrowhead": 0,
           "arrowwidth": 1
          },
          "autotypenumbers": "strict",
          "coloraxis": {
           "colorbar": {
            "outlinewidth": 0,
            "ticks": ""
           }
          },
          "colorscale": {
           "diverging": [
            [
             0,
             "#8e0152"
            ],
            [
             0.1,
             "#c51b7d"
            ],
            [
             0.2,
             "#de77ae"
            ],
            [
             0.3,
             "#f1b6da"
            ],
            [
             0.4,
             "#fde0ef"
            ],
            [
             0.5,
             "#f7f7f7"
            ],
            [
             0.6,
             "#e6f5d0"
            ],
            [
             0.7,
             "#b8e186"
            ],
            [
             0.8,
             "#7fbc41"
            ],
            [
             0.9,
             "#4d9221"
            ],
            [
             1,
             "#276419"
            ]
           ],
           "sequential": [
            [
             0,
             "#0d0887"
            ],
            [
             0.1111111111111111,
             "#46039f"
            ],
            [
             0.2222222222222222,
             "#7201a8"
            ],
            [
             0.3333333333333333,
             "#9c179e"
            ],
            [
             0.4444444444444444,
             "#bd3786"
            ],
            [
             0.5555555555555556,
             "#d8576b"
            ],
            [
             0.6666666666666666,
             "#ed7953"
            ],
            [
             0.7777777777777778,
             "#fb9f3a"
            ],
            [
             0.8888888888888888,
             "#fdca26"
            ],
            [
             1,
             "#f0f921"
            ]
           ],
           "sequentialminus": [
            [
             0,
             "#0d0887"
            ],
            [
             0.1111111111111111,
             "#46039f"
            ],
            [
             0.2222222222222222,
             "#7201a8"
            ],
            [
             0.3333333333333333,
             "#9c179e"
            ],
            [
             0.4444444444444444,
             "#bd3786"
            ],
            [
             0.5555555555555556,
             "#d8576b"
            ],
            [
             0.6666666666666666,
             "#ed7953"
            ],
            [
             0.7777777777777778,
             "#fb9f3a"
            ],
            [
             0.8888888888888888,
             "#fdca26"
            ],
            [
             1,
             "#f0f921"
            ]
           ]
          },
          "colorway": [
           "#636efa",
           "#EF553B",
           "#00cc96",
           "#ab63fa",
           "#FFA15A",
           "#19d3f3",
           "#FF6692",
           "#B6E880",
           "#FF97FF",
           "#FECB52"
          ],
          "font": {
           "color": "#2a3f5f"
          },
          "geo": {
           "bgcolor": "white",
           "lakecolor": "white",
           "landcolor": "#E5ECF6",
           "showlakes": true,
           "showland": true,
           "subunitcolor": "white"
          },
          "hoverlabel": {
           "align": "left"
          },
          "hovermode": "closest",
          "mapbox": {
           "style": "light"
          },
          "paper_bgcolor": "white",
          "plot_bgcolor": "#E5ECF6",
          "polar": {
           "angularaxis": {
            "gridcolor": "white",
            "linecolor": "white",
            "ticks": ""
           },
           "bgcolor": "#E5ECF6",
           "radialaxis": {
            "gridcolor": "white",
            "linecolor": "white",
            "ticks": ""
           }
          },
          "scene": {
           "xaxis": {
            "backgroundcolor": "#E5ECF6",
            "gridcolor": "white",
            "gridwidth": 2,
            "linecolor": "white",
            "showbackground": true,
            "ticks": "",
            "zerolinecolor": "white"
           },
           "yaxis": {
            "backgroundcolor": "#E5ECF6",
            "gridcolor": "white",
            "gridwidth": 2,
            "linecolor": "white",
            "showbackground": true,
            "ticks": "",
            "zerolinecolor": "white"
           },
           "zaxis": {
            "backgroundcolor": "#E5ECF6",
            "gridcolor": "white",
            "gridwidth": 2,
            "linecolor": "white",
            "showbackground": true,
            "ticks": "",
            "zerolinecolor": "white"
           }
          },
          "shapedefaults": {
           "line": {
            "color": "#2a3f5f"
           }
          },
          "ternary": {
           "aaxis": {
            "gridcolor": "white",
            "linecolor": "white",
            "ticks": ""
           },
           "baxis": {
            "gridcolor": "white",
            "linecolor": "white",
            "ticks": ""
           },
           "bgcolor": "#E5ECF6",
           "caxis": {
            "gridcolor": "white",
            "linecolor": "white",
            "ticks": ""
           }
          },
          "title": {
           "x": 0.05
          },
          "xaxis": {
           "automargin": true,
           "gridcolor": "white",
           "linecolor": "white",
           "ticks": "",
           "title": {
            "standoff": 15
           },
           "zerolinecolor": "white",
           "zerolinewidth": 2
          },
          "yaxis": {
           "automargin": true,
           "gridcolor": "white",
           "linecolor": "white",
           "ticks": "",
           "title": {
            "standoff": 15
           },
           "zerolinecolor": "white",
           "zerolinewidth": 2
          }
         }
        }
       }
      }
     },
     "metadata": {},
     "output_type": "display_data"
    }
   ],
   "source": [
    "from IPython.display import display\n",
    "import glob, sys \n",
    "import sqlite3 as sql\n",
    "import pandas as pd\n",
    "import numpy as np\n",
    "import plotly.express as px\n",
    "from colorama import Fore, Back, Style\n",
    "from functools import reduce\n",
    "\n",
    "'''\n",
    "This notebook contains graphs that can't be rendered on GitHub, Check README.MD\n",
    "This comtains data about malnutrition and population density\n",
    "'''\n",
    "\n",
    "# Ouverture sqllite\n",
    "conn = sql.connect('continent.sqlite')\n",
    "\n",
    "# Noms de colonnes à utiliser\n",
    "names = ['Code Groupe de pays', 'Groupe de pays', 'Code Pays', 'Pays',\n",
    "       'Code M49', 'Code ISO2', 'Code ISO3']\n",
    "\n",
    "names_cols = ['Code Domaine', 'Domaine', 'Code Pays', 'Pays', 'Code Élément',\n",
    "       'Élément', 'Code Produit', 'Produit', 'Code année', 'Année', 'Unité',\n",
    "       'Valeur', 'Symbole', 'Description du Symbole']\n",
    "\n",
    "df = pd.read_csv('fao_2013/FAOSTAT_2013_Continent.csv', names=names, header=0)\n",
    "df_surfaces = pd.read_csv('fao_2013/FAOSTAT_2013_superficiepays.csv', names=names_cols, header=0)\n",
    "df_population = pd.read_csv('fao_2013/FAOSTAT_2013_population.csv', names=names_cols, header=0)\n",
    "\n",
    "df_surfaces.rename(columns={\"Valeur\" : \"Superficie\"}, inplace=True)\n",
    "df_population.rename(columns={\"Valeur\":\"Population\"}, inplace=True)\n",
    "df.to_sql('continents', conn, if_exists='replace')\n",
    "\n",
    "# requètes sql permettant de grouper les pays selon leur continent\n",
    "\n",
    "req_afrique = '''SELECT \"Code Pays\", Pays, \"Groupe de Pays\", \"Code ISO3\"  FROM continents \n",
    "WHERE continents.\"Groupe de Pays\" = \"Afrique\" '''\n",
    "\n",
    "req_asie = '''SELECT \"Code Pays\", Pays, \"Groupe de Pays\", \"Code ISO3\" FROM continents \n",
    "WHERE continents.\"Groupe de Pays\" = \"Asie\" '''\n",
    "\n",
    "req_europe = '''SELECT \"Code Pays\", Pays, \"Groupe de Pays\", \"Code ISO3\"  FROM continents \n",
    "WHERE continents.\"Groupe de Pays\" = \"Europe\" '''\n",
    "\n",
    "req_amerique = '''SELECT \"Code Pays\", Pays, \"Groupe de Pays\", \"Code ISO3\"  FROM continents \n",
    "WHERE continents.\"Groupe de Pays\" = \"Amériques\" '''\n",
    "\n",
    "req_oceanie= '''SELECT \"Code Pays\", Pays, \"Groupe de Pays\", \"Code ISO3\"  FROM continents \n",
    "WHERE continents.\"Groupe de Pays\" = \"Océanie\" '''\n",
    "\n",
    "df_afrique = pd.read_sql(req_afrique, conn)\n",
    "df_asie = pd.read_sql(req_asie, conn)\n",
    "df_europe = pd.read_sql(req_europe, conn)\n",
    "df_amerique = pd.read_sql(req_amerique, conn)\n",
    "df_oceanie = pd.read_sql(req_oceanie, conn)\n",
    "\n",
    "# print(df_afrique)\n",
    "# print(df_asie)\n",
    "# print(df_europe)\n",
    "# print(df_amerique)\n",
    "# print(df_oceanie)\n",
    "\n",
    "list_dfs = [df_afrique, df_amerique, df_asie, df_europe, df_oceanie]\n",
    "df_continents = reduce(lambda  left,right: pd.merge(left,right,on=['Code Pays', 'Pays', 'Code ISO3', 'Groupe de pays'], how='outer'), list_dfs)\n",
    "print(df_continents.columns)\n",
    "\n",
    "df_food = pd.read_csv('fao_2013/FAOSTAT_2013_sous_alimentation.csv', names=names_cols, header=0)\n",
    "df_food = df_food[[\"Code Pays\", \"Pays\", \"Valeur\"]]\n",
    "print(df_food.columns)\n",
    "df_result = pd.merge(df_continents, df_food, on=\"Code Pays\")\n",
    "del df_result[\"Pays_y\"]\n",
    "df_result.rename({\"Pays_x\":\"Pays\"}, inplace=True)\n",
    "display(df_result.columns)\n",
    "df_result.dropna(subset=[\"Valeur\"],inplace=True)\n",
    "\n",
    "display(df_result)\n",
    "fig = px.choropleth(df_result,               #dataframe\n",
    "                     locations= \"Code ISO3\",\n",
    "                     locationmode= \"ISO-3\" , #location code\n",
    "                     color = \"Valeur\",     #column shown by color\n",
    "                     hover_name = \"Pays_x\",  #hover info title \n",
    "                     # animation_frame = \"Code Pays\",#column animated\n",
    "                     projection = \"natural earth\" #type of map\n",
    "                     )\n",
    "\n",
    "fig.show()"
   ]
  },
  {
   "cell_type": "code",
   "execution_count": 2,
   "id": "8ff82e32",
   "metadata": {},
   "outputs": [
    {
     "name": "stdout",
     "output_type": "stream",
     "text": [
      "Index(['Code ISO3', 'Pays', 'Densite'], dtype='object')\n",
      "Index(['Code Pays', 'Pays', 'Groupe de pays', 'Code ISO3'], dtype='object')\n"
     ]
    },
    {
     "data": {
      "text/html": [
       "<div>\n",
       "<style scoped>\n",
       "    .dataframe tbody tr th:only-of-type {\n",
       "        vertical-align: middle;\n",
       "    }\n",
       "\n",
       "    .dataframe tbody tr th {\n",
       "        vertical-align: top;\n",
       "    }\n",
       "\n",
       "    .dataframe thead th {\n",
       "        text-align: right;\n",
       "    }\n",
       "</style>\n",
       "<table border=\"1\" class=\"dataframe\">\n",
       "  <thead>\n",
       "    <tr style=\"text-align: right;\">\n",
       "      <th></th>\n",
       "      <th>Code Pays</th>\n",
       "      <th>Pays</th>\n",
       "      <th>Continent</th>\n",
       "      <th>Code ISO3</th>\n",
       "      <th>Densite</th>\n",
       "    </tr>\n",
       "  </thead>\n",
       "  <tbody>\n",
       "    <tr>\n",
       "      <th>1</th>\n",
       "      <td>202.0</td>\n",
       "      <td>Afrique du Sud</td>\n",
       "      <td>Afrique</td>\n",
       "      <td>ZAF</td>\n",
       "      <td>3.790002</td>\n",
       "    </tr>\n",
       "    <tr>\n",
       "      <th>2</th>\n",
       "      <td>4.0</td>\n",
       "      <td>Algérie</td>\n",
       "      <td>Afrique</td>\n",
       "      <td>DZA</td>\n",
       "      <td>2.773436</td>\n",
       "    </tr>\n",
       "    <tr>\n",
       "      <th>3</th>\n",
       "      <td>7.0</td>\n",
       "      <td>Angola</td>\n",
       "      <td>Afrique</td>\n",
       "      <td>AGO</td>\n",
       "      <td>3.038203</td>\n",
       "    </tr>\n",
       "    <tr>\n",
       "      <th>5</th>\n",
       "      <td>53.0</td>\n",
       "      <td>Bénin</td>\n",
       "      <td>Afrique</td>\n",
       "      <td>BEN</td>\n",
       "      <td>4.485538</td>\n",
       "    </tr>\n",
       "    <tr>\n",
       "      <th>6</th>\n",
       "      <td>20.0</td>\n",
       "      <td>Botswana</td>\n",
       "      <td>Afrique</td>\n",
       "      <td>BWA</td>\n",
       "      <td>1.291816</td>\n",
       "    </tr>\n",
       "    <tr>\n",
       "      <th>...</th>\n",
       "      <td>...</td>\n",
       "      <td>...</td>\n",
       "      <td>...</td>\n",
       "      <td>...</td>\n",
       "      <td>...</td>\n",
       "    </tr>\n",
       "    <tr>\n",
       "      <th>238</th>\n",
       "      <td>167.0</td>\n",
       "      <td>Tchéquie</td>\n",
       "      <td>Europe</td>\n",
       "      <td>CZE</td>\n",
       "      <td>4.913830</td>\n",
       "    </tr>\n",
       "    <tr>\n",
       "      <th>239</th>\n",
       "      <td>230.0</td>\n",
       "      <td>Ukraine</td>\n",
       "      <td>Europe</td>\n",
       "      <td>UKR</td>\n",
       "      <td>4.363385</td>\n",
       "    </tr>\n",
       "    <tr>\n",
       "      <th>241</th>\n",
       "      <td>10.0</td>\n",
       "      <td>Australie</td>\n",
       "      <td>Océanie</td>\n",
       "      <td>AUS</td>\n",
       "      <td>1.102131</td>\n",
       "    </tr>\n",
       "    <tr>\n",
       "      <th>263</th>\n",
       "      <td>156.0</td>\n",
       "      <td>Nouvelle-Zélande</td>\n",
       "      <td>Océanie</td>\n",
       "      <td>NZL</td>\n",
       "      <td>2.825550</td>\n",
       "    </tr>\n",
       "    <tr>\n",
       "      <th>265</th>\n",
       "      <td>168.0</td>\n",
       "      <td>Papouasie-Nouvelle-Guinée</td>\n",
       "      <td>Océanie</td>\n",
       "      <td>PNG</td>\n",
       "      <td>2.844806</td>\n",
       "    </tr>\n",
       "  </tbody>\n",
       "</table>\n",
       "<p>160 rows × 5 columns</p>\n",
       "</div>"
      ],
      "text/plain": [
       "     Code Pays                       Pays Continent Code ISO3   Densite\n",
       "1        202.0             Afrique du Sud   Afrique       ZAF  3.790002\n",
       "2          4.0                    Algérie   Afrique       DZA  2.773436\n",
       "3          7.0                     Angola   Afrique       AGO  3.038203\n",
       "5         53.0                      Bénin   Afrique       BEN  4.485538\n",
       "6         20.0                   Botswana   Afrique       BWA  1.291816\n",
       "..         ...                        ...       ...       ...       ...\n",
       "238      167.0                   Tchéquie    Europe       CZE  4.913830\n",
       "239      230.0                    Ukraine    Europe       UKR  4.363385\n",
       "241       10.0                  Australie   Océanie       AUS  1.102131\n",
       "263      156.0           Nouvelle-Zélande   Océanie       NZL  2.825550\n",
       "265      168.0  Papouasie-Nouvelle-Guinée   Océanie       PNG  2.844806\n",
       "\n",
       "[160 rows x 5 columns]"
      ]
     },
     "metadata": {},
     "output_type": "display_data"
    },
    {
     "data": {
      "application/vnd.plotly.v1+json": {
       "config": {
        "plotlyServerURL": "https://plot.ly"
       },
       "data": [
        {
         "geo": "geo",
         "hovertemplate": "<b>%{hovertext}</b><br><br>Continent=Afrique<br>Densite=%{marker.size}<br>Code ISO3=%{location}<extra></extra>",
         "hovertext": [
          "Afrique du Sud",
          "Algérie",
          "Angola",
          "Bénin",
          "Botswana",
          "Burkina Faso",
          "Burundi",
          "Cabo Verde",
          "Cameroun",
          "Comores",
          "Congo",
          "Côte d'Ivoire",
          "Djibouti",
          "Égypte",
          "Érythrée",
          "Eswatini",
          "Éthiopie",
          "Gabon",
          "Gambie",
          "Ghana",
          "Guinée",
          "Guinée équatoriale",
          "Guinée-Bissau",
          "Kenya",
          "Lesotho",
          "Libéria",
          "Libye",
          "Madagascar",
          "Malawi",
          "Mali",
          "Maroc",
          "Maurice",
          "Mauritanie",
          "Mozambique",
          "Namibie",
          "Niger",
          "Nigéria",
          "Ouganda",
          "République centrafricaine",
          "République démocratique du Congo",
          "République-Unie de Tanzanie",
          "Rwanda",
          "Sénégal",
          "Sierra Leone",
          "Somalie",
          "Soudan",
          "Soudan du Sud",
          "Tchad",
          "Togo",
          "Tunisie",
          "Zambie",
          "Zimbabwe"
         ],
         "legendgroup": "Afrique",
         "locationmode": "ISO-3",
         "locations": [
          "ZAF",
          "DZA",
          "AGO",
          "BEN",
          "BWA",
          "BFA",
          "BDI",
          "CPV",
          "CMR",
          "COM",
          "COG",
          "CIV",
          "DJI",
          "EGY",
          "ERI",
          "SWZ",
          "ETH",
          "GAB",
          "GMB",
          "GHA",
          "GIN",
          "GNQ",
          "GNB",
          "KEN",
          "LSO",
          "LBR",
          "LBY",
          "MDG",
          "MWI",
          "MLI",
          "MAR",
          "MUS",
          "MRT",
          "MOZ",
          "NAM",
          "NER",
          "NGA",
          "UGA",
          "CAF",
          "COD",
          "TZA",
          "RWA",
          "SEN",
          "SLE",
          "SOM",
          "SDN",
          "SSD",
          "TCD",
          "TGO",
          "TUN",
          "ZMB",
          "ZWE"
         ],
         "marker": {
          "color": "#636efa",
          "size": [
           3.7900023914367056,
           2.7734358267545436,
           3.0382034472555013,
           4.485538000238395,
           1.2918158453389896,
           4.1335741198969265,
           5.917567941304,
           4.844050307600459,
           3.843823117663143,
           5.987576018602184,
           2.605398880325261,
           4.240716005494599,
           3.6403705273564433,
           4.486484975449706,
           3.2998438722041623,
           4.146123058647546,
           4.436976487750803,
           1.953300896249131,
           5.268076137830622,
           4.761627662047279,
           3.7916665510803167,
           3.6473999350939277,
           4.07099379137276,
           4.38178031168679,
           4.201939733326744,
           3.7866069096647754,
           1.2787221751199422,
           3.6754369373638194,
           5.123979573661132,
           2.601310017467844,
           4.324727659888766,
           6.429761587433783,
           1.3093567891951072,
           3.481373192869362,
           0.9980193191653938,
           2.681587341461379,
           5.239596915076018,
           5.181838434173803,
           1.9656830552026392,
           3.449241301179375,
           4.002480031127756,
           6.082781245642448,
           4.270897813249134,
           4.554878999755378,
           3.036104854130702,
           2.988008598638828,
           2.796449042457755,
           2.3512869886101138,
           4.850995675092896,
           4.25561900951133,
           2.9996760463951992,
           3.541262957038815
          ],
          "sizemode": "area",
          "sizeref": 0.022351809121025704,
          "symbol": "circle"
         },
         "mode": "markers",
         "name": "Afrique",
         "showlegend": true,
         "type": "scattergeo"
        },
        {
         "geo": "geo",
         "hovertemplate": "<b>%{hovertext}</b><br><br>Continent=Amériques<br>Densite=%{marker.size}<br>Code ISO3=%{location}<extra></extra>",
         "hovertext": [
          "Argentine",
          "Bolivie (État plurinational de)",
          "Brésil",
          "Canada",
          "Chili",
          "Colombie",
          "Costa Rica",
          "Cuba",
          "El Salvador",
          "Équateur",
          "États-Unis d'Amérique",
          "Guatemala",
          "Guyana",
          "Haïti",
          "Honduras",
          "Jamaïque",
          "Mexique",
          "Nicaragua",
          "Panama",
          "Paraguay",
          "Pérou",
          "République dominicaine",
          "Suriname",
          "Trinité-et-Tobago",
          "Uruguay",
          "Venezuela (République bolivarienne du)"
         ],
         "legendgroup": "Amériques",
         "locationmode": "ISO-3",
         "locations": [
          "ARG",
          "BOL",
          "BRA",
          "CAN",
          "CHL",
          "COL",
          "CRI",
          "CUB",
          "SLV",
          "ECU",
          "USA",
          "GTM",
          "GUY",
          "HTI",
          "HND",
          "JAM",
          "MEX",
          "NIC",
          "PAN",
          "PRY",
          "PER",
          "DOM",
          "SUR",
          "TTO",
          "URY",
          "VEN"
         ],
         "marker": {
          "color": "#EF553B",
          "size": [
           2.7357406074390718,
           2.2753909118286844,
           3.18024760466866,
           1.36432145510364,
           3.1626223716939137,
           3.73544589826666,
           4.531236262382842,
           4.684523758516694,
           5.7118061829971705,
           4.147012558854845,
           3.5424600289771653,
           4.944410211951018,
           1.349929915468819,
           5.933260252281128,
           4.364823013306156,
           5.575805692096776,
           4.112947997953659,
           3.919550197392641,
           3.9433921001581527,
           2.796445006986654,
           3.146774981314322,
           5.337512801926934,
           1.255131955101255,
           5.575497113720506,
           2.963518561744102,
           3.519378686123196
          ],
          "sizemode": "area",
          "sizeref": 0.022351809121025704,
          "symbol": "circle"
         },
         "mode": "markers",
         "name": "Amériques",
         "showlegend": true,
         "type": "scattergeo"
        },
        {
         "geo": "geo",
         "hovertemplate": "<b>%{hovertext}</b><br><br>Continent=Asie<br>Densite=%{marker.size}<br>Code ISO3=%{location}<extra></extra>",
         "hovertext": [
          "Afghanistan",
          "Arabie saoudite",
          "Arménie",
          "Azerbaïdjan",
          "Bahreïn",
          "Bangladesh",
          "Bhoutan",
          "Cambodge",
          "Chine",
          "Chypre",
          "Émirats arabes unis",
          "Géorgie",
          "Inde",
          "Indonésie",
          "Iran (République islamique d')",
          "Iraq",
          "Israël",
          "Japon",
          "Jordanie",
          "Kazakhstan",
          "Kirghizistan",
          "Koweït",
          "Liban",
          "Malaisie",
          "Mongolie",
          "Myanmar",
          "Népal",
          "Oman",
          "Ouzbékistan",
          "Pakistan",
          "Philippines",
          "Qatar",
          "République arabe syrienne",
          "République de Corée",
          "République démocratique populaire lao",
          "République populaire démocratique de Corée",
          "Singapour",
          "Sri Lanka",
          "Tadjikistan",
          "Thaïlande",
          "Turkménistan",
          "Turquie",
          "Viet Nam",
          "Yémen"
         ],
         "legendgroup": "Asie",
         "locationmode": "ISO-3",
         "locations": [
          "AFG",
          "SAU",
          "ARM",
          "AZE",
          "BHR",
          "BGD",
          "BTN",
          "KHM",
          "CHN",
          "CYP",
          "ARE",
          "GEO",
          "IND",
          "IDN",
          "IRN",
          "IRQ",
          "ISR",
          "JPN",
          "JOR",
          "KAZ",
          "KGZ",
          "KWT",
          "LBN",
          "MYS",
          "MNG",
          "MMR",
          "NPL",
          "OMN",
          "UZB",
          "PAK",
          "PHL",
          "QAT",
          "SYR",
          "KOR",
          "LAO",
          "PRK",
          "SGP",
          "LKA",
          "TJK",
          "THA",
          "TKM",
          "TUR",
          "VNM",
          "YEM"
         ],
         "marker": {
          "color": "#00cc96",
          "size": [
           3.901483381186703,
           2.6376074987957985,
           4.622784770043868,
           4.735527002030882,
           7.44297876173506,
           7.067791302621961,
           2.9249355243437414,
           4.444125090219251,
           4.974285457843372,
           4.8186271465584145,
           4.863769818360545,
           4.175032506027886,
           6.065637595573658,
           4.898705000993238,
           3.8492359461390313,
           4.33567155294828,
           5.920063344858711,
           5.856913626514969,
           4.563891903559152,
           1.8421617400356691,
           3.395200989409358,
           5.287706273107111,
           6.359586721755884,
           4.496402496080424,
           0.6154857941509797,
           4.374458100967789,
           5.2352165278779035,
           2.498493253939345,
           4.239868463544992,
           5.513860496027635,
           5.803913099185141,
           5.304576377115225,
           4.66926270423397,
           6.249226448132349,
           3.344339972571802,
           5.332904534255119,
           8.940723648410282,
           5.793797009649068,
           4.053285120489008,
           4.8932317055153,
           2.43532435190522,
           4.591597389600462,
           5.669665715925349,
           3.863458874010148
          ],
          "sizemode": "area",
          "sizeref": 0.022351809121025704,
          "symbol": "circle"
         },
         "mode": "markers",
         "name": "Asie",
         "showlegend": true,
         "type": "scattergeo"
        },
        {
         "geo": "geo",
         "hovertemplate": "<b>%{hovertext}</b><br><br>Continent=Europe<br>Densite=%{marker.size}<br>Code ISO3=%{location}<extra></extra>",
         "hovertext": [
          "Albanie",
          "Allemagne",
          "Autriche",
          "Bélarus",
          "Belgique",
          "Bosnie-Herzégovine",
          "Bulgarie",
          "Croatie",
          "Danemark",
          "Espagne",
          "Estonie",
          "Fédération de Russie",
          "Finlande",
          "France",
          "Grèce",
          "Hongrie",
          "Irlande",
          "Islande",
          "Italie",
          "Lettonie",
          "Lituanie",
          "Luxembourg",
          "Macédoine du Nord",
          "Norvège",
          "Pays-Bas",
          "Pologne",
          "Portugal",
          "République de Moldova",
          "Royaume-Uni de Grande-Bretagne et d'Irlande du Nord",
          "Slovaquie",
          "Slovénie",
          "Suède",
          "Suisse",
          "Tchéquie",
          "Ukraine"
         ],
         "legendgroup": "Europe",
         "locationmode": "ISO-3",
         "locations": [
          "ALB",
          "DEU",
          "AUT",
          "BLR",
          "BEL",
          "BIH",
          "BGR",
          "HRV",
          "DNK",
          "ESP",
          "EST",
          "RUS",
          "FIN",
          "FRA",
          "GRC",
          "HUN",
          "IRL",
          "ISL",
          "ITA",
          "LVA",
          "LTU",
          "LUX",
          "MKD",
          "NOR",
          "NLD",
          "POL",
          "PRT",
          "MDA",
          "GBR",
          "SVK",
          "SVN",
          "SWE",
          "CHE",
          "CZE",
          "UKR"
         ],
         "marker": {
          "color": "#ab63fa",
          "size": [
           4.6602291550372925,
           5.443091563803656,
           4.6324041677235375,
           3.840298675263015,
           5.9095506697535445,
           4.23687610321577,
           4.203536389671139,
           4.331303328172184,
           4.944305302566754,
           4.5347578675933695,
           3.411797393883141,
           2.1705138061818,
           2.884679557584243,
           4.791923530707001,
           4.4434459937677575,
           4.6939097164904915,
           4.206464587567832,
           1.1723477891353409,
           5.3165850951077385,
           3.47641706094405,
           3.8542008550917757,
           5.352132280297047,
           4.4047792998204685,
           2.632758151655586,
           6.212196882705079,
           4.8221275280335805,
           4.737567061340778,
           4.600630174643991,
           5.579992193990501,
           4.723598681417423,
           4.627730558698909,
           3.159910374787461,
           5.321597513058664,
           4.913830360476898,
           4.363385060637074
          ],
          "sizemode": "area",
          "sizeref": 0.022351809121025704,
          "symbol": "circle"
         },
         "mode": "markers",
         "name": "Europe",
         "showlegend": true,
         "type": "scattergeo"
        },
        {
         "geo": "geo",
         "hovertemplate": "<b>%{hovertext}</b><br><br>Continent=Océanie<br>Densite=%{marker.size}<br>Code ISO3=%{location}<extra></extra>",
         "hovertext": [
          "Australie",
          "Nouvelle-Zélande",
          "Papouasie-Nouvelle-Guinée"
         ],
         "legendgroup": "Océanie",
         "locationmode": "ISO-3",
         "locations": [
          "AUS",
          "NZL",
          "PNG"
         ],
         "marker": {
          "color": "#FFA15A",
          "size": [
           1.1021306008619574,
           2.825550471310671,
           2.8448061585429665
          ],
          "sizemode": "area",
          "sizeref": 0.022351809121025704,
          "symbol": "circle"
         },
         "mode": "markers",
         "name": "Océanie",
         "showlegend": true,
         "type": "scattergeo"
        }
       ],
       "layout": {
        "geo": {
         "center": {},
         "domain": {
          "x": [
           0,
           1
          ],
          "y": [
           0,
           1
          ]
         },
         "projection": {
          "type": "natural earth"
         }
        },
        "legend": {
         "itemsizing": "constant",
         "title": {
          "text": "Continent"
         },
         "tracegroupgap": 0
        },
        "margin": {
         "t": 60
        },
        "template": {
         "data": {
          "bar": [
           {
            "error_x": {
             "color": "#2a3f5f"
            },
            "error_y": {
             "color": "#2a3f5f"
            },
            "marker": {
             "line": {
              "color": "#E5ECF6",
              "width": 0.5
             },
             "pattern": {
              "fillmode": "overlay",
              "size": 10,
              "solidity": 0.2
             }
            },
            "type": "bar"
           }
          ],
          "barpolar": [
           {
            "marker": {
             "line": {
              "color": "#E5ECF6",
              "width": 0.5
             },
             "pattern": {
              "fillmode": "overlay",
              "size": 10,
              "solidity": 0.2
             }
            },
            "type": "barpolar"
           }
          ],
          "carpet": [
           {
            "aaxis": {
             "endlinecolor": "#2a3f5f",
             "gridcolor": "white",
             "linecolor": "white",
             "minorgridcolor": "white",
             "startlinecolor": "#2a3f5f"
            },
            "baxis": {
             "endlinecolor": "#2a3f5f",
             "gridcolor": "white",
             "linecolor": "white",
             "minorgridcolor": "white",
             "startlinecolor": "#2a3f5f"
            },
            "type": "carpet"
           }
          ],
          "choropleth": [
           {
            "colorbar": {
             "outlinewidth": 0,
             "ticks": ""
            },
            "type": "choropleth"
           }
          ],
          "contour": [
           {
            "colorbar": {
             "outlinewidth": 0,
             "ticks": ""
            },
            "colorscale": [
             [
              0,
              "#0d0887"
             ],
             [
              0.1111111111111111,
              "#46039f"
             ],
             [
              0.2222222222222222,
              "#7201a8"
             ],
             [
              0.3333333333333333,
              "#9c179e"
             ],
             [
              0.4444444444444444,
              "#bd3786"
             ],
             [
              0.5555555555555556,
              "#d8576b"
             ],
             [
              0.6666666666666666,
              "#ed7953"
             ],
             [
              0.7777777777777778,
              "#fb9f3a"
             ],
             [
              0.8888888888888888,
              "#fdca26"
             ],
             [
              1,
              "#f0f921"
             ]
            ],
            "type": "contour"
           }
          ],
          "contourcarpet": [
           {
            "colorbar": {
             "outlinewidth": 0,
             "ticks": ""
            },
            "type": "contourcarpet"
           }
          ],
          "heatmap": [
           {
            "colorbar": {
             "outlinewidth": 0,
             "ticks": ""
            },
            "colorscale": [
             [
              0,
              "#0d0887"
             ],
             [
              0.1111111111111111,
              "#46039f"
             ],
             [
              0.2222222222222222,
              "#7201a8"
             ],
             [
              0.3333333333333333,
              "#9c179e"
             ],
             [
              0.4444444444444444,
              "#bd3786"
             ],
             [
              0.5555555555555556,
              "#d8576b"
             ],
             [
              0.6666666666666666,
              "#ed7953"
             ],
             [
              0.7777777777777778,
              "#fb9f3a"
             ],
             [
              0.8888888888888888,
              "#fdca26"
             ],
             [
              1,
              "#f0f921"
             ]
            ],
            "type": "heatmap"
           }
          ],
          "heatmapgl": [
           {
            "colorbar": {
             "outlinewidth": 0,
             "ticks": ""
            },
            "colorscale": [
             [
              0,
              "#0d0887"
             ],
             [
              0.1111111111111111,
              "#46039f"
             ],
             [
              0.2222222222222222,
              "#7201a8"
             ],
             [
              0.3333333333333333,
              "#9c179e"
             ],
             [
              0.4444444444444444,
              "#bd3786"
             ],
             [
              0.5555555555555556,
              "#d8576b"
             ],
             [
              0.6666666666666666,
              "#ed7953"
             ],
             [
              0.7777777777777778,
              "#fb9f3a"
             ],
             [
              0.8888888888888888,
              "#fdca26"
             ],
             [
              1,
              "#f0f921"
             ]
            ],
            "type": "heatmapgl"
           }
          ],
          "histogram": [
           {
            "marker": {
             "pattern": {
              "fillmode": "overlay",
              "size": 10,
              "solidity": 0.2
             }
            },
            "type": "histogram"
           }
          ],
          "histogram2d": [
           {
            "colorbar": {
             "outlinewidth": 0,
             "ticks": ""
            },
            "colorscale": [
             [
              0,
              "#0d0887"
             ],
             [
              0.1111111111111111,
              "#46039f"
             ],
             [
              0.2222222222222222,
              "#7201a8"
             ],
             [
              0.3333333333333333,
              "#9c179e"
             ],
             [
              0.4444444444444444,
              "#bd3786"
             ],
             [
              0.5555555555555556,
              "#d8576b"
             ],
             [
              0.6666666666666666,
              "#ed7953"
             ],
             [
              0.7777777777777778,
              "#fb9f3a"
             ],
             [
              0.8888888888888888,
              "#fdca26"
             ],
             [
              1,
              "#f0f921"
             ]
            ],
            "type": "histogram2d"
           }
          ],
          "histogram2dcontour": [
           {
            "colorbar": {
             "outlinewidth": 0,
             "ticks": ""
            },
            "colorscale": [
             [
              0,
              "#0d0887"
             ],
             [
              0.1111111111111111,
              "#46039f"
             ],
             [
              0.2222222222222222,
              "#7201a8"
             ],
             [
              0.3333333333333333,
              "#9c179e"
             ],
             [
              0.4444444444444444,
              "#bd3786"
             ],
             [
              0.5555555555555556,
              "#d8576b"
             ],
             [
              0.6666666666666666,
              "#ed7953"
             ],
             [
              0.7777777777777778,
              "#fb9f3a"
             ],
             [
              0.8888888888888888,
              "#fdca26"
             ],
             [
              1,
              "#f0f921"
             ]
            ],
            "type": "histogram2dcontour"
           }
          ],
          "mesh3d": [
           {
            "colorbar": {
             "outlinewidth": 0,
             "ticks": ""
            },
            "type": "mesh3d"
           }
          ],
          "parcoords": [
           {
            "line": {
             "colorbar": {
              "outlinewidth": 0,
              "ticks": ""
             }
            },
            "type": "parcoords"
           }
          ],
          "pie": [
           {
            "automargin": true,
            "type": "pie"
           }
          ],
          "scatter": [
           {
            "fillpattern": {
             "fillmode": "overlay",
             "size": 10,
             "solidity": 0.2
            },
            "type": "scatter"
           }
          ],
          "scatter3d": [
           {
            "line": {
             "colorbar": {
              "outlinewidth": 0,
              "ticks": ""
             }
            },
            "marker": {
             "colorbar": {
              "outlinewidth": 0,
              "ticks": ""
             }
            },
            "type": "scatter3d"
           }
          ],
          "scattercarpet": [
           {
            "marker": {
             "colorbar": {
              "outlinewidth": 0,
              "ticks": ""
             }
            },
            "type": "scattercarpet"
           }
          ],
          "scattergeo": [
           {
            "marker": {
             "colorbar": {
              "outlinewidth": 0,
              "ticks": ""
             }
            },
            "type": "scattergeo"
           }
          ],
          "scattergl": [
           {
            "marker": {
             "colorbar": {
              "outlinewidth": 0,
              "ticks": ""
             }
            },
            "type": "scattergl"
           }
          ],
          "scattermapbox": [
           {
            "marker": {
             "colorbar": {
              "outlinewidth": 0,
              "ticks": ""
             }
            },
            "type": "scattermapbox"
           }
          ],
          "scatterpolar": [
           {
            "marker": {
             "colorbar": {
              "outlinewidth": 0,
              "ticks": ""
             }
            },
            "type": "scatterpolar"
           }
          ],
          "scatterpolargl": [
           {
            "marker": {
             "colorbar": {
              "outlinewidth": 0,
              "ticks": ""
             }
            },
            "type": "scatterpolargl"
           }
          ],
          "scatterternary": [
           {
            "marker": {
             "colorbar": {
              "outlinewidth": 0,
              "ticks": ""
             }
            },
            "type": "scatterternary"
           }
          ],
          "surface": [
           {
            "colorbar": {
             "outlinewidth": 0,
             "ticks": ""
            },
            "colorscale": [
             [
              0,
              "#0d0887"
             ],
             [
              0.1111111111111111,
              "#46039f"
             ],
             [
              0.2222222222222222,
              "#7201a8"
             ],
             [
              0.3333333333333333,
              "#9c179e"
             ],
             [
              0.4444444444444444,
              "#bd3786"
             ],
             [
              0.5555555555555556,
              "#d8576b"
             ],
             [
              0.6666666666666666,
              "#ed7953"
             ],
             [
              0.7777777777777778,
              "#fb9f3a"
             ],
             [
              0.8888888888888888,
              "#fdca26"
             ],
             [
              1,
              "#f0f921"
             ]
            ],
            "type": "surface"
           }
          ],
          "table": [
           {
            "cells": {
             "fill": {
              "color": "#EBF0F8"
             },
             "line": {
              "color": "white"
             }
            },
            "header": {
             "fill": {
              "color": "#C8D4E3"
             },
             "line": {
              "color": "white"
             }
            },
            "type": "table"
           }
          ]
         },
         "layout": {
          "annotationdefaults": {
           "arrowcolor": "#2a3f5f",
           "arrowhead": 0,
           "arrowwidth": 1
          },
          "autotypenumbers": "strict",
          "coloraxis": {
           "colorbar": {
            "outlinewidth": 0,
            "ticks": ""
           }
          },
          "colorscale": {
           "diverging": [
            [
             0,
             "#8e0152"
            ],
            [
             0.1,
             "#c51b7d"
            ],
            [
             0.2,
             "#de77ae"
            ],
            [
             0.3,
             "#f1b6da"
            ],
            [
             0.4,
             "#fde0ef"
            ],
            [
             0.5,
             "#f7f7f7"
            ],
            [
             0.6,
             "#e6f5d0"
            ],
            [
             0.7,
             "#b8e186"
            ],
            [
             0.8,
             "#7fbc41"
            ],
            [
             0.9,
             "#4d9221"
            ],
            [
             1,
             "#276419"
            ]
           ],
           "sequential": [
            [
             0,
             "#0d0887"
            ],
            [
             0.1111111111111111,
             "#46039f"
            ],
            [
             0.2222222222222222,
             "#7201a8"
            ],
            [
             0.3333333333333333,
             "#9c179e"
            ],
            [
             0.4444444444444444,
             "#bd3786"
            ],
            [
             0.5555555555555556,
             "#d8576b"
            ],
            [
             0.6666666666666666,
             "#ed7953"
            ],
            [
             0.7777777777777778,
             "#fb9f3a"
            ],
            [
             0.8888888888888888,
             "#fdca26"
            ],
            [
             1,
             "#f0f921"
            ]
           ],
           "sequentialminus": [
            [
             0,
             "#0d0887"
            ],
            [
             0.1111111111111111,
             "#46039f"
            ],
            [
             0.2222222222222222,
             "#7201a8"
            ],
            [
             0.3333333333333333,
             "#9c179e"
            ],
            [
             0.4444444444444444,
             "#bd3786"
            ],
            [
             0.5555555555555556,
             "#d8576b"
            ],
            [
             0.6666666666666666,
             "#ed7953"
            ],
            [
             0.7777777777777778,
             "#fb9f3a"
            ],
            [
             0.8888888888888888,
             "#fdca26"
            ],
            [
             1,
             "#f0f921"
            ]
           ]
          },
          "colorway": [
           "#636efa",
           "#EF553B",
           "#00cc96",
           "#ab63fa",
           "#FFA15A",
           "#19d3f3",
           "#FF6692",
           "#B6E880",
           "#FF97FF",
           "#FECB52"
          ],
          "font": {
           "color": "#2a3f5f"
          },
          "geo": {
           "bgcolor": "white",
           "lakecolor": "white",
           "landcolor": "#E5ECF6",
           "showlakes": true,
           "showland": true,
           "subunitcolor": "white"
          },
          "hoverlabel": {
           "align": "left"
          },
          "hovermode": "closest",
          "mapbox": {
           "style": "light"
          },
          "paper_bgcolor": "white",
          "plot_bgcolor": "#E5ECF6",
          "polar": {
           "angularaxis": {
            "gridcolor": "white",
            "linecolor": "white",
            "ticks": ""
           },
           "bgcolor": "#E5ECF6",
           "radialaxis": {
            "gridcolor": "white",
            "linecolor": "white",
            "ticks": ""
           }
          },
          "scene": {
           "xaxis": {
            "backgroundcolor": "#E5ECF6",
            "gridcolor": "white",
            "gridwidth": 2,
            "linecolor": "white",
            "showbackground": true,
            "ticks": "",
            "zerolinecolor": "white"
           },
           "yaxis": {
            "backgroundcolor": "#E5ECF6",
            "gridcolor": "white",
            "gridwidth": 2,
            "linecolor": "white",
            "showbackground": true,
            "ticks": "",
            "zerolinecolor": "white"
           },
           "zaxis": {
            "backgroundcolor": "#E5ECF6",
            "gridcolor": "white",
            "gridwidth": 2,
            "linecolor": "white",
            "showbackground": true,
            "ticks": "",
            "zerolinecolor": "white"
           }
          },
          "shapedefaults": {
           "line": {
            "color": "#2a3f5f"
           }
          },
          "ternary": {
           "aaxis": {
            "gridcolor": "white",
            "linecolor": "white",
            "ticks": ""
           },
           "baxis": {
            "gridcolor": "white",
            "linecolor": "white",
            "ticks": ""
           },
           "bgcolor": "#E5ECF6",
           "caxis": {
            "gridcolor": "white",
            "linecolor": "white",
            "ticks": ""
           }
          },
          "title": {
           "x": 0.05
          },
          "xaxis": {
           "automargin": true,
           "gridcolor": "white",
           "linecolor": "white",
           "ticks": "",
           "title": {
            "standoff": 15
           },
           "zerolinecolor": "white",
           "zerolinewidth": 2
          },
          "yaxis": {
           "automargin": true,
           "gridcolor": "white",
           "linecolor": "white",
           "ticks": "",
           "title": {
            "standoff": 15
           },
           "zerolinecolor": "white",
           "zerolinewidth": 2
          }
         }
        }
       }
      }
     },
     "metadata": {},
     "output_type": "display_data"
    }
   ],
   "source": [
    "conn = sql.connect('continent.sqlite')\n",
    "\n",
    "# Noms de colonnes à utiliser\n",
    "names = ['Code Groupe de pays', 'Groupe de pays', 'Code Pays', 'Pays',\n",
    "       'Code M49', 'Code ISO2', 'Code ISO3']\n",
    "\n",
    "names_cols = ['Code Domaine', 'Domaine', 'Code Pays', 'Pays', 'Code Élément',\n",
    "       'Élément', 'Code Produit', 'Produit', 'Code année', 'Année', 'Unité',\n",
    "       'Valeur', 'Symbole', 'Description du Symbole']\n",
    "\n",
    "df = pd.read_csv('fao_2013/FAOSTAT_2013_Continent.csv', names=names, header=0)\n",
    "df.to_sql('continents', conn, if_exists='replace')\n",
    "\n",
    "\n",
    "import pandas as pd\n",
    "\n",
    "df_densite = {'Code ISO3' : [\"AFG\", \"ZAF\", \"ALB\", \"DZA\", \"DEU\", \"AGO\", \"SAU\", \"ARG\", \"ARM\", \"AUS\", \"AUT\", \"AZE\", \"BHR\", \"BGD\", \"BLR\", \"BEL\", \"BEN\", \"BTN\", \"BOL\", \"BIH\", \"BWA\", \"BRA\", \"BGR\", \"BFA\", \"BDI\", \"KHM\", \"CMR\", \"CAN\", \"CPV\", \"CAF\", \"CHL\", \"CHN\", \"CYP\", \"COL\", \"COM\", \"COG\", \"COD\", \"PRK\", \"KOR\", \"CRI\", \"CIV\", \"HRV\", \"CUB\", \"DNK\", \"DJI\", \"DOM\", \"EGY\", \"ARE\", \"ECU\", \"ERI\", \"ESP\", \"EST\", \"SWZ\", \"USA\", \"ETH\", \"FIN\", \"FRA\", \"GAB\", \"GMB\", \"GEO\", \"GHA\", \"GRC\", \"GTM\", \"GIN\", \"GNQ\", \"GNB\", \"GUY\", \"HTI\", \"HND\", \"HUN\", \"IND\", \"IDN\", \"IRQ\", \"IRN\", \"IRL\", \"ISL\", \"ISR\", \"ITA\", \"JAM\", \"JPN\", \"JOR\", \"KAZ\", \"KEN\", \"KGZ\", \"KSV\", \"KWT\", \"LAO\", \"LSO\", \"LVA\", \"LBN\", \"LBR\", \"LBY\", \"LTU\", \"LUX\", \"MKD\", \"MDG\", \"MYS\", \"MWI\", \"MLI\", \"MAR\", \"MUS\", \"MRT\", \"MEX\", \"MDA\", \"MNG\", \"MON\", \"MOZ\", \"MMR\", \"NAM\", \"NPL\", \"NIC\", \"NER\", \"NGA\", \"NOR\", \"NZL\", \"OMN\", \"UGA\", \"UZB\", \"PAK\", \"PAN\", \"PNG\", \"PRY\", \"NLD\", \"PER\", \"PHL\", \"POL\", \"PRT\", \"QAT\", \"ROM\", \"GBR\", \"RUS\", \"RWA\", \"SLV\", \"SEN\", \"YUG\", \"SLE\", \"SGP\", \"SVK\", \"SVN\", \"SOM\", \"SDN\", \"SSD\", \"LKA\", \"SWE\", \"CHE\", \"SUR\", \"SYR\", \"TJK\", \"TZA\", \"TCD\", \"CZE\", \"THA\", \"TGO\", \"TTO\", \"TUN\", \"TKM\", \"TUR\", \"UKR\", \"URY\", \"VEN\", \"VNM\", \"YEM\", \"ZMB\", \"ZWE\"],\n",
    "              'Pays' : [\"Afghanistan\", \"Afrique du Sud\", \"Albanie\", \"Algérie\", \"Allemagne\", \"Angola\", \"Arabie Saoudite\", \"Argentine\", \"Arménie\", \"Australie\", \"Autriche\", \"Azerbaïdjan\", \"Bahreïn\", \"Bangladesh\", \"Belarus\", \"Belgique\", \"Bénin \", \"Bhoutan\", \"Bolivie\", \"Bosnie-Herzégovine\", \"Botswana\", \"Brésil\", \"Bulgarie\", \"Burkina Faso\", \"Burundi\", \"Cambodge\", \"Cameroun\", \"Canada\", \"Cap-Vert\", \"Centrafricaine (rep)\", \"Chili\", \"Chine\", \"Chypre\", \"Colombie\", \"Comores(Les)\", \"Congo\", \"Congo (rep. dem.)\", \"Corée du Nord\", \"Corée du Sud\", \"Costa Rica\", \"Côte d'Ivoire\", \"Croatie\", \"Cuba\", \"Danemark\", \"Djibouti\", \"Dominicaine (Rep)\", \"Égypte\", \"Émirats arabes unis\", \"Équateur\", \"Érythrée\", \"Espagne\", \"Estonie\", \"Eswatini\", \"États-Unis\", \"Éthiopie\", \"Finlande\", \"France\", \"Gabon\", \"Gambie\", \"Géorgie\", \"Ghana\", \"Grèce\", \"Guatemala\", \"Guinée\", \"Guinée équatoriale\", \"Guinée-Bissau\", \"Guyana\", \"Haïti\", \"Honduras\", \"Hongrie\", \"Inde\", \"Indonésie\", \"Irak\", \"Iran\", \"Irlande\", \"Islande\", \"Israël\", \"Italie\", \"Jamaïque\", \"Japon\", \"Jordanie\", \"Kazakhstan\", \"Kenya\", \"Kirghizstan\", \"Kosovo\", \"Koweït\", \"Laos\", \"Lesotho\", \"Lettonie\", \"Liban\", \"Liberia\", \"Libye\", \"Lituanie\", \"Luxembourg\", \"Macédoine du Nord\", \"Madagascar\", \"Malaisie\", \"Malawi\", \"Mali\", \"Maroc\", \"Maurice\", \"Mauritanie\", \"Mexique\", \"Moldavie\", \"Mongolie\", \"Monténégro\", \"Mozambique\", \"Myanmar\", \"Namibie\", \"Népal\", \"Nicaragua\", \"Niger\", \"Nigeria\", \"Norvège\", \"Nouvelle-Zélande\", \"Oman\", \"Ouganda\", \"Ouzbékistan\", \"Pakistan\", \"Panama\", \"Papouasie-Nouvelle-G.\", \"Paraguay\", \"Pays-Bas\", \"Pérou\", \"Philippines\", \"Pologne\", \"Portugal\", \"Qatar\", \"Roumanie\", \"Royaume-Uni\", \"Russie\", \"Rwanda\", \"Salvador\", \"Sénégal\", \"Serbie\", \"Sierra Leone\", \"Singapour\", \"Slovaquie\", \"Slovénie\", \"Somalie\", \"Soudan\", \"Soudan du Sud\", \"Sri Lanka\", \"Suède\", \"Suisse\", \"Suriname\", \"Syrie\", \"Tadjikistan\", \"Tanzanie\", \"Tchad\", \"Tchèque (Rép)\", \"Thaïlande\", \"Togo\", \"Trinité-et-Tobago\", \"Tunisie\", \"Turkménistan\", \"Turquie\", \"Ukraine\", \"Uruguay\", \"Venezuela\", \"Vietnam\", \"Yémen\", \"Zambie\", \"Zimbabwe\"],\n",
    "              'Densite' : [49.475786149058, 44.25650611249, 105.6602919708, 16.013559414546, 231.15571256593, 20.86771957969, 13.979717075485, 15.421160233713, 101.77706357569, 3.0105735261575, 102.760821619, 113.92348080669, 1707.8298701299, 1173.5531458862, 46.539372523508, 368.54052179656, 88.724671869457, 18.633024634677, 9.7317225145389, 69.1913671875, 3.6393891270976, 24.052708377701, 66.922577376566, 62.400551900585, 371.50708722741, 85.125368230229, 46.703687250111, 3.9130669593412, 126.98263027295, 7.1397877941507, 23.632487909061, 144.64543295393, 123.79502164502, 41.906707525913, 398.44760881247, 13.536623718887, 31.476502062151, 207.03845195582, 517.6122698253, 92.87330591461, 69.457566037736, 76.043331427346, 108.2587027442, 140.3733, 38.10595340811, 207.99474228938, 88.808731729369, 129.51151788229, 63.244777741987, 27.108406214534, 93.200945602847, 30.319691741431, 63.188546511628, 34.551813188855, 84.519010699439, 17.89783145217, 120.53299473845, 7.0519268832227, 194.04229249012, 65.041953882221, 116.93610354223, 85.067579519007, 140.38802724897, 44.330217320527, 38.374759358289, 58.615184921764, 3.8571551943104, 377.38287373004, 78.635481276254, 109.27959792334, 430.79726455423, 134.11598710852, 76.376232355434, 46.957171713451, 67.118827115692, 3.229566084788, 372.43530499076, 203.6871208381, 263.9621421976, 349.64334705075, 95.956206352782, 6.3101644627181, 79.980296587834, 29.820646506778, 167.5484523, 197.88900112233, 28.341863084922, 66.81581027668, 32.343628971347, 578.00742913001, 44.106488787375, 3.5920467849552, 47.190889509374, 211.05785290896, 81.84107850912, 39.465897215538, 89.693876122356, 168.00261985575, 13.481387324925, 75.544936141609, 620.02610837438, 3.7037906277287, 61.126653463309, 99.547027892886, 1.8505553702068, 46.18639405, 32.504326152751, 79.396802841918, 2.7129031082608, 187.76975933031, 50.377779624397, 14.6082632036, 188.59406765704, 13.912088683768, 16.870229007634, 12.164151857835, 178.00976959904, 69.39872277639, 248.10709708385, 51.593314500942, 17.198224616879, 16.386289957211, 498.79584446423, 23.2609265625, 331.59458698058, 124.22911074099, 114.15612869138, 201.25572782084, 86.87429031, 265.06953664283, 8.7627852575004, 438.24637211188, 302.41679536679, 71.58587752558, 81.91324034, 95.095247991133, 7636.7213578501, 112.57263766428, 102.28167825223, 20.823972646412, 19.846121520343, 16.386356083744, 328.25705629086, 23.568483504063, 204.7106488511, 3.5083012820513, 106.6191036323, 57.58632466419, 54.733723188079, 10.499073221093, 136.15995855996, 133.38393587661, 127.8676411105, 263.88070175439, 70.500444129763, 11.419522056477, 98.651889869158, 78.522488434717, 19.365992458005, 33.763444249192, 289.93759666906, 47.629812299941, 20.079031194931, 34.510476929042]}\n",
    "\n",
    "df_densite=pd.DataFrame(df_densite)\n",
    "df_densite=pd.DataFrame(df_densite)\n",
    "#Imprimer la df_densite (vision tronquée)\n",
    "df_densite[\"Densite\"] = np.log(df_densite['Densite'])\n",
    "print(df_densite.columns)\n",
    "\n",
    "# requètes sql permettant de grouper les pays selon leur continent\n",
    "\n",
    "req_afrique = '''SELECT \"Code Pays\", Pays, \"Groupe de Pays\", \"Code ISO3\"  FROM continents \n",
    "WHERE continents.\"Groupe de Pays\" = \"Afrique\" '''\n",
    "\n",
    "req_asie = '''SELECT \"Code Pays\", Pays, \"Groupe de Pays\", \"Code ISO3\" FROM continents \n",
    "WHERE continents.\"Groupe de Pays\" = \"Asie\" '''\n",
    "\n",
    "req_europe = '''SELECT \"Code Pays\", Pays, \"Groupe de Pays\", \"Code ISO3\"  FROM continents \n",
    "WHERE continents.\"Groupe de Pays\" = \"Europe\" '''\n",
    "\n",
    "req_amerique = '''SELECT \"Code Pays\", Pays, \"Groupe de Pays\", \"Code ISO3\"  FROM continents \n",
    "WHERE continents.\"Groupe de Pays\" = \"Amériques\" '''\n",
    "\n",
    "req_oceanie= '''SELECT \"Code Pays\", Pays, \"Groupe de Pays\", \"Code ISO3\"  FROM continents \n",
    "WHERE continents.\"Groupe de Pays\" = \"Océanie\" '''\n",
    "\n",
    "df_afrique = pd.read_sql(req_afrique, conn)\n",
    "df_asie = pd.read_sql(req_asie, conn)\n",
    "df_europe = pd.read_sql(req_europe, conn)\n",
    "df_amerique = pd.read_sql(req_amerique, conn)\n",
    "df_oceanie = pd.read_sql(req_oceanie, conn)\n",
    "\n",
    "# print(df_afrique)\n",
    "# print(df_asie)\n",
    "# print(df_europe)\n",
    "# print(df_amerique)\n",
    "# print(df_oceanie)\n",
    "\n",
    "list_dfs = [df_afrique, df_amerique, df_asie, df_europe, df_oceanie]\n",
    "df_continents = reduce(lambda  left,right: pd.merge(left,right,on=['Code Pays', 'Pays', 'Code ISO3', 'Groupe de pays'], how='outer'), list_dfs)\n",
    "print(df_continents.columns)\n",
    "\n",
    "df_final = df_continents.merge(df_densite[['Code ISO3', 'Densite']], on='Code ISO3', how='outer')\n",
    "df_final.rename(columns={'Groupe de pays':'Continent'}, inplace=True)\n",
    "df_final = df_final.dropna()\n",
    "display(df_final)\n",
    "\n",
    "\n",
    "\n",
    "\n",
    "fig = px.scatter_geo(df_final,               #dataframe\n",
    "                     locations= \"Code ISO3\",\n",
    "                     locationmode= \"ISO-3\" , #location code\n",
    "                     color = \"Continent\",     #column shown by color\n",
    "                     hover_name = \"Pays\",  #hover info title \n",
    "                     size = \"Densite\",     #column shown by size\n",
    "                     # animation_frame = \"Code Pays\",#column animated\n",
    "                     projection = \"natural earth\" #type of map\n",
    "                     )\n",
    "\n",
    "fig.show()"
   ]
  },
  {
   "cell_type": "code",
   "execution_count": null,
   "id": "f11a6091",
   "metadata": {},
   "outputs": [],
   "source": []
  }
 ],
 "metadata": {
  "kernelspec": {
   "display_name": "base",
   "language": "python",
   "name": "python3"
  },
  "language_info": {
   "codemirror_mode": {
    "name": "ipython",
    "version": 3
   },
   "file_extension": ".py",
   "mimetype": "text/x-python",
   "name": "python",
   "nbconvert_exporter": "python",
   "pygments_lexer": "ipython3",
   "version": "3.9.13 (main, Aug 25 2022, 23:26:10) \n[GCC 11.2.0]"
  },
  "vscode": {
   "interpreter": {
    "hash": "70cfd609d7ba4145b3fedff821ecc63fd4c765afddbe882b67e97f0bba880cb4"
   }
  }
 },
 "nbformat": 4,
 "nbformat_minor": 5
}
