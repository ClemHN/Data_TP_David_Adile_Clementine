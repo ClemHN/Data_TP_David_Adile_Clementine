{
 "cells": [
  {
   "cell_type": "code",
   "execution_count": 6,
   "id": "402ae0f0",
   "metadata": {},
   "outputs": [
    {
     "data": {
      "text/html": [
       "        <script type=\"text/javascript\">\n",
       "        window.PlotlyConfig = {MathJaxConfig: 'local'};\n",
       "        if (window.MathJax && window.MathJax.Hub && window.MathJax.Hub.Config) {window.MathJax.Hub.Config({SVG: {font: \"STIX-Web\"}});}\n",
       "        if (typeof require !== 'undefined') {\n",
       "        require.undef(\"plotly\");\n",
       "        requirejs.config({\n",
       "            paths: {\n",
       "                'plotly': ['https://cdn.plot.ly/plotly-2.12.1.min']\n",
       "            }\n",
       "        });\n",
       "        require(['plotly'], function(Plotly) {\n",
       "            window._Plotly = Plotly;\n",
       "        });\n",
       "        }\n",
       "        </script>\n",
       "        "
      ]
     },
     "metadata": {},
     "output_type": "display_data"
    },
    {
     "name": "stdout",
     "output_type": "stream",
     "text": [
      "Index(['Code Pays', 'Pays', 'Groupe de pays', 'Code ISO3'], dtype='object')\n",
      "Index(['Code Pays', 'Pays', 'Valeur'], dtype='object')\n"
     ]
    },
    {
     "data": {
      "text/plain": [
       "Index(['Code Pays', 'Pays_x', 'Groupe de pays', 'Code ISO3', 'Valeur'], dtype='object')"
      ]
     },
     "metadata": {},
     "output_type": "display_data"
    },
    {
     "data": {
      "text/html": [
       "<div>\n",
       "<style scoped>\n",
       "    .dataframe tbody tr th:only-of-type {\n",
       "        vertical-align: middle;\n",
       "    }\n",
       "\n",
       "    .dataframe tbody tr th {\n",
       "        vertical-align: top;\n",
       "    }\n",
       "\n",
       "    .dataframe thead th {\n",
       "        text-align: right;\n",
       "    }\n",
       "</style>\n",
       "<table border=\"1\" class=\"dataframe\">\n",
       "  <thead>\n",
       "    <tr style=\"text-align: right;\">\n",
       "      <th></th>\n",
       "      <th>Code Pays</th>\n",
       "      <th>Pays_x</th>\n",
       "      <th>Groupe de pays</th>\n",
       "      <th>Code ISO3</th>\n",
       "      <th>Valeur</th>\n",
       "    </tr>\n",
       "  </thead>\n",
       "  <tbody>\n",
       "    <tr>\n",
       "      <th>0</th>\n",
       "      <td>202</td>\n",
       "      <td>Afrique du Sud</td>\n",
       "      <td>Afrique</td>\n",
       "      <td>ZAF</td>\n",
       "      <td>2.6</td>\n",
       "    </tr>\n",
       "    <tr>\n",
       "      <th>1</th>\n",
       "      <td>4</td>\n",
       "      <td>Algérie</td>\n",
       "      <td>Afrique</td>\n",
       "      <td>DZA</td>\n",
       "      <td>1.8</td>\n",
       "    </tr>\n",
       "    <tr>\n",
       "      <th>2</th>\n",
       "      <td>7</td>\n",
       "      <td>Angola</td>\n",
       "      <td>Afrique</td>\n",
       "      <td>AGO</td>\n",
       "      <td>8.0</td>\n",
       "    </tr>\n",
       "    <tr>\n",
       "      <th>3</th>\n",
       "      <td>53</td>\n",
       "      <td>Bénin</td>\n",
       "      <td>Afrique</td>\n",
       "      <td>BEN</td>\n",
       "      <td>1.0</td>\n",
       "    </tr>\n",
       "    <tr>\n",
       "      <th>4</th>\n",
       "      <td>20</td>\n",
       "      <td>Botswana</td>\n",
       "      <td>Afrique</td>\n",
       "      <td>BWA</td>\n",
       "      <td>0.5</td>\n",
       "    </tr>\n",
       "    <tr>\n",
       "      <th>...</th>\n",
       "      <td>...</td>\n",
       "      <td>...</td>\n",
       "      <td>...</td>\n",
       "      <td>...</td>\n",
       "      <td>...</td>\n",
       "    </tr>\n",
       "    <tr>\n",
       "      <th>143</th>\n",
       "      <td>249</td>\n",
       "      <td>Yémen</td>\n",
       "      <td>Asie</td>\n",
       "      <td>YEM</td>\n",
       "      <td>7.1</td>\n",
       "    </tr>\n",
       "    <tr>\n",
       "      <th>144</th>\n",
       "      <td>3</td>\n",
       "      <td>Albanie</td>\n",
       "      <td>Europe</td>\n",
       "      <td>ALB</td>\n",
       "      <td>0.2</td>\n",
       "    </tr>\n",
       "    <tr>\n",
       "      <th>151</th>\n",
       "      <td>27</td>\n",
       "      <td>Bulgarie</td>\n",
       "      <td>Europe</td>\n",
       "      <td>BGR</td>\n",
       "      <td>0.3</td>\n",
       "    </tr>\n",
       "    <tr>\n",
       "      <th>177</th>\n",
       "      <td>272</td>\n",
       "      <td>Serbie</td>\n",
       "      <td>Europe</td>\n",
       "      <td>SRB</td>\n",
       "      <td>0.5</td>\n",
       "    </tr>\n",
       "    <tr>\n",
       "      <th>178</th>\n",
       "      <td>199</td>\n",
       "      <td>Slovaquie</td>\n",
       "      <td>Europe</td>\n",
       "      <td>SVK</td>\n",
       "      <td>0.2</td>\n",
       "    </tr>\n",
       "  </tbody>\n",
       "</table>\n",
       "<p>97 rows × 5 columns</p>\n",
       "</div>"
      ],
      "text/plain": [
       "     Code Pays          Pays_x Groupe de pays Code ISO3  Valeur\n",
       "0          202  Afrique du Sud        Afrique       ZAF     2.6\n",
       "1            4         Algérie        Afrique       DZA     1.8\n",
       "2            7          Angola        Afrique       AGO     8.0\n",
       "3           53           Bénin        Afrique       BEN     1.0\n",
       "4           20        Botswana        Afrique       BWA     0.5\n",
       "..         ...             ...            ...       ...     ...\n",
       "143        249           Yémen           Asie       YEM     7.1\n",
       "144          3         Albanie         Europe       ALB     0.2\n",
       "151         27        Bulgarie         Europe       BGR     0.3\n",
       "177        272          Serbie         Europe       SRB     0.5\n",
       "178        199       Slovaquie         Europe       SVK     0.2\n",
       "\n",
       "[97 rows x 5 columns]"
      ]
     },
     "metadata": {},
     "output_type": "display_data"
    },
    {
     "data": {
      "application/vnd.plotly.v1+json": {
       "config": {
        "plotlyServerURL": "https://plot.ly"
       },
       "data": [
        {
         "coloraxis": "coloraxis",
         "geo": "geo",
         "hovertemplate": "<b>%{hovertext}</b><br><br>Code ISO3=%{location}<br>Valeur=%{z}<extra></extra>",
         "hovertext": [
          "Afrique du Sud",
          "Algérie",
          "Angola",
          "Bénin",
          "Botswana",
          "Burkina Faso",
          "Cameroun",
          "Congo",
          "Côte d'Ivoire",
          "Djibouti",
          "Égypte",
          "Eswatini",
          "Éthiopie",
          "Gabon",
          "Gambie",
          "Ghana",
          "Guinée",
          "Guinée-Bissau",
          "Kenya",
          "Lesotho",
          "Libéria",
          "Madagascar",
          "Malawi",
          "Mali",
          "Maroc",
          "Mauritanie",
          "Mozambique",
          "Namibie",
          "Niger",
          "Nigéria",
          "Ouganda",
          "République centrafricaine",
          "République-Unie de Tanzanie",
          "Rwanda",
          "Sénégal",
          "Sierra Leone",
          "Soudan",
          "Tchad",
          "Togo",
          "Tunisie",
          "Zambie",
          "Zimbabwe",
          "Argentine",
          "Bolivie (État plurinational de)",
          "Chili",
          "Colombie",
          "Costa Rica",
          "El Salvador",
          "Équateur",
          "Guatemala",
          "Haïti",
          "Honduras",
          "Jamaïque",
          "Mexique",
          "Nicaragua",
          "Panama",
          "Paraguay",
          "Pérou",
          "République dominicaine",
          "Venezuela (République bolivarienne du)",
          "Afghanistan",
          "Arabie saoudite",
          "Arménie",
          "Bangladesh",
          "Cambodge",
          "Chine",
          "Chine, continentale",
          "Chine, Taiwan Province de",
          "Émirats arabes unis",
          "Géorgie",
          "Inde",
          "Indonésie",
          "Iran (République islamique d')",
          "Iraq",
          "Jordanie",
          "Kirghizistan",
          "Liban",
          "Malaisie",
          "Mongolie",
          "Myanmar",
          "Népal",
          "Oman",
          "Ouzbékistan",
          "Pakistan",
          "Philippines",
          "République démocratique populaire lao",
          "République populaire démocratique de Corée",
          "Sri Lanka",
          "Thaïlande",
          "Timor-Leste",
          "Turkménistan",
          "Viet Nam",
          "Yémen",
          "Albanie",
          "Bulgarie",
          "Serbie",
          "Slovaquie"
         ],
         "locationmode": "ISO-3",
         "locations": [
          "ZAF",
          "DZA",
          "AGO",
          "BEN",
          "BWA",
          "BFA",
          "CMR",
          "COG",
          "CIV",
          "DJI",
          "EGY",
          "SWZ",
          "ETH",
          "GAB",
          "GMB",
          "GHA",
          "GIN",
          "GNB",
          "KEN",
          "LSO",
          "LBR",
          "MDG",
          "MWI",
          "MLI",
          "MAR",
          "MRT",
          "MOZ",
          "NAM",
          "NER",
          "NGA",
          "UGA",
          "CAF",
          "TZA",
          "RWA",
          "SEN",
          "SLE",
          "SDN",
          "TCD",
          "TGO",
          "TUN",
          "ZMB",
          "ZWE",
          "ARG",
          "BOL",
          "CHL",
          "COL",
          "CRI",
          "SLV",
          "ECU",
          "GTM",
          "HTI",
          "HND",
          "JAM",
          "MEX",
          "NIC",
          "PAN",
          "PRY",
          "PER",
          "DOM",
          "VEN",
          "AFG",
          "SAU",
          "ARM",
          "BGD",
          "KHM",
          "CHN",
          "F41",
          "TWN",
          "ARE",
          "GEO",
          "IND",
          "IDN",
          "IRN",
          "IRQ",
          "JOR",
          "KGZ",
          "LBN",
          "MYS",
          "MNG",
          "MMR",
          "NPL",
          "OMN",
          "UZB",
          "PAK",
          "PHL",
          "LAO",
          "PRK",
          "LKA",
          "THA",
          "TLS",
          "TKM",
          "VNM",
          "YEM",
          "ALB",
          "BGR",
          "SRB",
          "SVK"
         ],
         "name": "",
         "type": "choropleth",
         "z": [
          2.6,
          1.8,
          8,
          1,
          0.5,
          3.5,
          1.6,
          1.8,
          4.7,
          0.2,
          3.9,
          0.3,
          25.5,
          0.2,
          0.2,
          1.7,
          1.9,
          0.4,
          9.3,
          0.3,
          1.6,
          8.2,
          3.7,
          1,
          1.4,
          0.3,
          7.7,
          0.7,
          1.9,
          12.2,
          12.6,
          2.1,
          16.5,
          3.5,
          1.8,
          1.7,
          9.3,
          4.9,
          1.3,
          0.5,
          7,
          6.7,
          1.5,
          2.2,
          0.6,
          4.2,
          0.3,
          0.7,
          1.3,
          2.6,
          5.2,
          1.3,
          0.3,
          5.4,
          1.1,
          0.4,
          0.8,
          2.8,
          1.3,
          1.8,
          8.1,
          1.6,
          0.1,
          26.4,
          2.8,
          137.3,
          136.2,
          1,
          0.4,
          0.3,
          213.1,
          19.1,
          4.2,
          9.3,
          0.9,
          0.4,
          0.5,
          1,
          0.5,
          6.5,
          2.6,
          0.2,
          2.2,
          38.4,
          14,
          1.2,
          10.4,
          2.4,
          6.1,
          0.3,
          0.3,
          11.1,
          7.1,
          0.2,
          0.3,
          0.5,
          0.2
         ]
        }
       ],
       "layout": {
        "coloraxis": {
         "colorbar": {
          "title": {
           "text": "Valeur"
          }
         },
         "colorscale": [
          [
           0,
           "#0d0887"
          ],
          [
           0.1111111111111111,
           "#46039f"
          ],
          [
           0.2222222222222222,
           "#7201a8"
          ],
          [
           0.3333333333333333,
           "#9c179e"
          ],
          [
           0.4444444444444444,
           "#bd3786"
          ],
          [
           0.5555555555555556,
           "#d8576b"
          ],
          [
           0.6666666666666666,
           "#ed7953"
          ],
          [
           0.7777777777777778,
           "#fb9f3a"
          ],
          [
           0.8888888888888888,
           "#fdca26"
          ],
          [
           1,
           "#f0f921"
          ]
         ]
        },
        "geo": {
         "center": {},
         "domain": {
          "x": [
           0,
           1
          ],
          "y": [
           0,
           1
          ]
         },
         "projection": {
          "type": "natural earth"
         }
        },
        "legend": {
         "tracegroupgap": 0
        },
        "margin": {
         "t": 60
        },
        "template": {
         "data": {
          "bar": [
           {
            "error_x": {
             "color": "#2a3f5f"
            },
            "error_y": {
             "color": "#2a3f5f"
            },
            "marker": {
             "line": {
              "color": "#E5ECF6",
              "width": 0.5
             },
             "pattern": {
              "fillmode": "overlay",
              "size": 10,
              "solidity": 0.2
             }
            },
            "type": "bar"
           }
          ],
          "barpolar": [
           {
            "marker": {
             "line": {
              "color": "#E5ECF6",
              "width": 0.5
             },
             "pattern": {
              "fillmode": "overlay",
              "size": 10,
              "solidity": 0.2
             }
            },
            "type": "barpolar"
           }
          ],
          "carpet": [
           {
            "aaxis": {
             "endlinecolor": "#2a3f5f",
             "gridcolor": "white",
             "linecolor": "white",
             "minorgridcolor": "white",
             "startlinecolor": "#2a3f5f"
            },
            "baxis": {
             "endlinecolor": "#2a3f5f",
             "gridcolor": "white",
             "linecolor": "white",
             "minorgridcolor": "white",
             "startlinecolor": "#2a3f5f"
            },
            "type": "carpet"
           }
          ],
          "choropleth": [
           {
            "colorbar": {
             "outlinewidth": 0,
             "ticks": ""
            },
            "type": "choropleth"
           }
          ],
          "contour": [
           {
            "colorbar": {
             "outlinewidth": 0,
             "ticks": ""
            },
            "colorscale": [
             [
              0,
              "#0d0887"
             ],
             [
              0.1111111111111111,
              "#46039f"
             ],
             [
              0.2222222222222222,
              "#7201a8"
             ],
             [
              0.3333333333333333,
              "#9c179e"
             ],
             [
              0.4444444444444444,
              "#bd3786"
             ],
             [
              0.5555555555555556,
              "#d8576b"
             ],
             [
              0.6666666666666666,
              "#ed7953"
             ],
             [
              0.7777777777777778,
              "#fb9f3a"
             ],
             [
              0.8888888888888888,
              "#fdca26"
             ],
             [
              1,
              "#f0f921"
             ]
            ],
            "type": "contour"
           }
          ],
          "contourcarpet": [
           {
            "colorbar": {
             "outlinewidth": 0,
             "ticks": ""
            },
            "type": "contourcarpet"
           }
          ],
          "heatmap": [
           {
            "colorbar": {
             "outlinewidth": 0,
             "ticks": ""
            },
            "colorscale": [
             [
              0,
              "#0d0887"
             ],
             [
              0.1111111111111111,
              "#46039f"
             ],
             [
              0.2222222222222222,
              "#7201a8"
             ],
             [
              0.3333333333333333,
              "#9c179e"
             ],
             [
              0.4444444444444444,
              "#bd3786"
             ],
             [
              0.5555555555555556,
              "#d8576b"
             ],
             [
              0.6666666666666666,
              "#ed7953"
             ],
             [
              0.7777777777777778,
              "#fb9f3a"
             ],
             [
              0.8888888888888888,
              "#fdca26"
             ],
             [
              1,
              "#f0f921"
             ]
            ],
            "type": "heatmap"
           }
          ],
          "heatmapgl": [
           {
            "colorbar": {
             "outlinewidth": 0,
             "ticks": ""
            },
            "colorscale": [
             [
              0,
              "#0d0887"
             ],
             [
              0.1111111111111111,
              "#46039f"
             ],
             [
              0.2222222222222222,
              "#7201a8"
             ],
             [
              0.3333333333333333,
              "#9c179e"
             ],
             [
              0.4444444444444444,
              "#bd3786"
             ],
             [
              0.5555555555555556,
              "#d8576b"
             ],
             [
              0.6666666666666666,
              "#ed7953"
             ],
             [
              0.7777777777777778,
              "#fb9f3a"
             ],
             [
              0.8888888888888888,
              "#fdca26"
             ],
             [
              1,
              "#f0f921"
             ]
            ],
            "type": "heatmapgl"
           }
          ],
          "histogram": [
           {
            "marker": {
             "pattern": {
              "fillmode": "overlay",
              "size": 10,
              "solidity": 0.2
             }
            },
            "type": "histogram"
           }
          ],
          "histogram2d": [
           {
            "colorbar": {
             "outlinewidth": 0,
             "ticks": ""
            },
            "colorscale": [
             [
              0,
              "#0d0887"
             ],
             [
              0.1111111111111111,
              "#46039f"
             ],
             [
              0.2222222222222222,
              "#7201a8"
             ],
             [
              0.3333333333333333,
              "#9c179e"
             ],
             [
              0.4444444444444444,
              "#bd3786"
             ],
             [
              0.5555555555555556,
              "#d8576b"
             ],
             [
              0.6666666666666666,
              "#ed7953"
             ],
             [
              0.7777777777777778,
              "#fb9f3a"
             ],
             [
              0.8888888888888888,
              "#fdca26"
             ],
             [
              1,
              "#f0f921"
             ]
            ],
            "type": "histogram2d"
           }
          ],
          "histogram2dcontour": [
           {
            "colorbar": {
             "outlinewidth": 0,
             "ticks": ""
            },
            "colorscale": [
             [
              0,
              "#0d0887"
             ],
             [
              0.1111111111111111,
              "#46039f"
             ],
             [
              0.2222222222222222,
              "#7201a8"
             ],
             [
              0.3333333333333333,
              "#9c179e"
             ],
             [
              0.4444444444444444,
              "#bd3786"
             ],
             [
              0.5555555555555556,
              "#d8576b"
             ],
             [
              0.6666666666666666,
              "#ed7953"
             ],
             [
              0.7777777777777778,
              "#fb9f3a"
             ],
             [
              0.8888888888888888,
              "#fdca26"
             ],
             [
              1,
              "#f0f921"
             ]
            ],
            "type": "histogram2dcontour"
           }
          ],
          "mesh3d": [
           {
            "colorbar": {
             "outlinewidth": 0,
             "ticks": ""
            },
            "type": "mesh3d"
           }
          ],
          "parcoords": [
           {
            "line": {
             "colorbar": {
              "outlinewidth": 0,
              "ticks": ""
             }
            },
            "type": "parcoords"
           }
          ],
          "pie": [
           {
            "automargin": true,
            "type": "pie"
           }
          ],
          "scatter": [
           {
            "fillpattern": {
             "fillmode": "overlay",
             "size": 10,
             "solidity": 0.2
            },
            "type": "scatter"
           }
          ],
          "scatter3d": [
           {
            "line": {
             "colorbar": {
              "outlinewidth": 0,
              "ticks": ""
             }
            },
            "marker": {
             "colorbar": {
              "outlinewidth": 0,
              "ticks": ""
             }
            },
            "type": "scatter3d"
           }
          ],
          "scattercarpet": [
           {
            "marker": {
             "colorbar": {
              "outlinewidth": 0,
              "ticks": ""
             }
            },
            "type": "scattercarpet"
           }
          ],
          "scattergeo": [
           {
            "marker": {
             "colorbar": {
              "outlinewidth": 0,
              "ticks": ""
             }
            },
            "type": "scattergeo"
           }
          ],
          "scattergl": [
           {
            "marker": {
             "colorbar": {
              "outlinewidth": 0,
              "ticks": ""
             }
            },
            "type": "scattergl"
           }
          ],
          "scattermapbox": [
           {
            "marker": {
             "colorbar": {
              "outlinewidth": 0,
              "ticks": ""
             }
            },
            "type": "scattermapbox"
           }
          ],
          "scatterpolar": [
           {
            "marker": {
             "colorbar": {
              "outlinewidth": 0,
              "ticks": ""
             }
            },
            "type": "scatterpolar"
           }
          ],
          "scatterpolargl": [
           {
            "marker": {
             "colorbar": {
              "outlinewidth": 0,
              "ticks": ""
             }
            },
            "type": "scatterpolargl"
           }
          ],
          "scatterternary": [
           {
            "marker": {
             "colorbar": {
              "outlinewidth": 0,
              "ticks": ""
             }
            },
            "type": "scatterternary"
           }
          ],
          "surface": [
           {
            "colorbar": {
             "outlinewidth": 0,
             "ticks": ""
            },
            "colorscale": [
             [
              0,
              "#0d0887"
             ],
             [
              0.1111111111111111,
              "#46039f"
             ],
             [
              0.2222222222222222,
              "#7201a8"
             ],
             [
              0.3333333333333333,
              "#9c179e"
             ],
             [
              0.4444444444444444,
              "#bd3786"
             ],
             [
              0.5555555555555556,
              "#d8576b"
             ],
             [
              0.6666666666666666,
              "#ed7953"
             ],
             [
              0.7777777777777778,
              "#fb9f3a"
             ],
             [
              0.8888888888888888,
              "#fdca26"
             ],
             [
              1,
              "#f0f921"
             ]
            ],
            "type": "surface"
           }
          ],
          "table": [
           {
            "cells": {
             "fill": {
              "color": "#EBF0F8"
             },
             "line": {
              "color": "white"
             }
            },
            "header": {
             "fill": {
              "color": "#C8D4E3"
             },
             "line": {
              "color": "white"
             }
            },
            "type": "table"
           }
          ]
         },
         "layout": {
          "annotationdefaults": {
           "arrowcolor": "#2a3f5f",
           "arrowhead": 0,
           "arrowwidth": 1
          },
          "autotypenumbers": "strict",
          "coloraxis": {
           "colorbar": {
            "outlinewidth": 0,
            "ticks": ""
           }
          },
          "colorscale": {
           "diverging": [
            [
             0,
             "#8e0152"
            ],
            [
             0.1,
             "#c51b7d"
            ],
            [
             0.2,
             "#de77ae"
            ],
            [
             0.3,
             "#f1b6da"
            ],
            [
             0.4,
             "#fde0ef"
            ],
            [
             0.5,
             "#f7f7f7"
            ],
            [
             0.6,
             "#e6f5d0"
            ],
            [
             0.7,
             "#b8e186"
            ],
            [
             0.8,
             "#7fbc41"
            ],
            [
             0.9,
             "#4d9221"
            ],
            [
             1,
             "#276419"
            ]
           ],
           "sequential": [
            [
             0,
             "#0d0887"
            ],
            [
             0.1111111111111111,
             "#46039f"
            ],
            [
             0.2222222222222222,
             "#7201a8"
            ],
            [
             0.3333333333333333,
             "#9c179e"
            ],
            [
             0.4444444444444444,
             "#bd3786"
            ],
            [
             0.5555555555555556,
             "#d8576b"
            ],
            [
             0.6666666666666666,
             "#ed7953"
            ],
            [
             0.7777777777777778,
             "#fb9f3a"
            ],
            [
             0.8888888888888888,
             "#fdca26"
            ],
            [
             1,
             "#f0f921"
            ]
           ],
           "sequentialminus": [
            [
             0,
             "#0d0887"
            ],
            [
             0.1111111111111111,
             "#46039f"
            ],
            [
             0.2222222222222222,
             "#7201a8"
            ],
            [
             0.3333333333333333,
             "#9c179e"
            ],
            [
             0.4444444444444444,
             "#bd3786"
            ],
            [
             0.5555555555555556,
             "#d8576b"
            ],
            [
             0.6666666666666666,
             "#ed7953"
            ],
            [
             0.7777777777777778,
             "#fb9f3a"
            ],
            [
             0.8888888888888888,
             "#fdca26"
            ],
            [
             1,
             "#f0f921"
            ]
           ]
          },
          "colorway": [
           "#636efa",
           "#EF553B",
           "#00cc96",
           "#ab63fa",
           "#FFA15A",
           "#19d3f3",
           "#FF6692",
           "#B6E880",
           "#FF97FF",
           "#FECB52"
          ],
          "font": {
           "color": "#2a3f5f"
          },
          "geo": {
           "bgcolor": "white",
           "lakecolor": "white",
           "landcolor": "#E5ECF6",
           "showlakes": true,
           "showland": true,
           "subunitcolor": "white"
          },
          "hoverlabel": {
           "align": "left"
          },
          "hovermode": "closest",
          "mapbox": {
           "style": "light"
          },
          "paper_bgcolor": "white",
          "plot_bgcolor": "#E5ECF6",
          "polar": {
           "angularaxis": {
            "gridcolor": "white",
            "linecolor": "white",
            "ticks": ""
           },
           "bgcolor": "#E5ECF6",
           "radialaxis": {
            "gridcolor": "white",
            "linecolor": "white",
            "ticks": ""
           }
          },
          "scene": {
           "xaxis": {
            "backgroundcolor": "#E5ECF6",
            "gridcolor": "white",
            "gridwidth": 2,
            "linecolor": "white",
            "showbackground": true,
            "ticks": "",
            "zerolinecolor": "white"
           },
           "yaxis": {
            "backgroundcolor": "#E5ECF6",
            "gridcolor": "white",
            "gridwidth": 2,
            "linecolor": "white",
            "showbackground": true,
            "ticks": "",
            "zerolinecolor": "white"
           },
           "zaxis": {
            "backgroundcolor": "#E5ECF6",
            "gridcolor": "white",
            "gridwidth": 2,
            "linecolor": "white",
            "showbackground": true,
            "ticks": "",
            "zerolinecolor": "white"
           }
          },
          "shapedefaults": {
           "line": {
            "color": "#2a3f5f"
           }
          },
          "ternary": {
           "aaxis": {
            "gridcolor": "white",
            "linecolor": "white",
            "ticks": ""
           },
           "baxis": {
            "gridcolor": "white",
            "linecolor": "white",
            "ticks": ""
           },
           "bgcolor": "#E5ECF6",
           "caxis": {
            "gridcolor": "white",
            "linecolor": "white",
            "ticks": ""
           }
          },
          "title": {
           "x": 0.05
          },
          "xaxis": {
           "automargin": true,
           "gridcolor": "white",
           "linecolor": "white",
           "ticks": "",
           "title": {
            "standoff": 15
           },
           "zerolinecolor": "white",
           "zerolinewidth": 2
          },
          "yaxis": {
           "automargin": true,
           "gridcolor": "white",
           "linecolor": "white",
           "ticks": "",
           "title": {
            "standoff": 15
           },
           "zerolinecolor": "white",
           "zerolinewidth": 2
          }
         }
        }
       }
      },
      "text/html": [
       "<div>                            <div id=\"f78afa66-2581-46c4-bd64-2f3a1d1a6166\" class=\"plotly-graph-div\" style=\"height:525px; width:100%;\"></div>            <script type=\"text/javascript\">                require([\"plotly\"], function(Plotly) {                    window.PLOTLYENV=window.PLOTLYENV || {};                                    if (document.getElementById(\"f78afa66-2581-46c4-bd64-2f3a1d1a6166\")) {                    Plotly.newPlot(                        \"f78afa66-2581-46c4-bd64-2f3a1d1a6166\",                        [{\"coloraxis\":\"coloraxis\",\"geo\":\"geo\",\"hovertemplate\":\"<b>%{hovertext}</b><br><br>Code ISO3=%{location}<br>Valeur=%{z}<extra></extra>\",\"hovertext\":[\"Afrique du Sud\",\"Alg\\u00e9rie\",\"Angola\",\"B\\u00e9nin\",\"Botswana\",\"Burkina Faso\",\"Cameroun\",\"Congo\",\"C\\u00f4te d'Ivoire\",\"Djibouti\",\"\\u00c9gypte\",\"Eswatini\",\"\\u00c9thiopie\",\"Gabon\",\"Gambie\",\"Ghana\",\"Guin\\u00e9e\",\"Guin\\u00e9e-Bissau\",\"Kenya\",\"Lesotho\",\"Lib\\u00e9ria\",\"Madagascar\",\"Malawi\",\"Mali\",\"Maroc\",\"Mauritanie\",\"Mozambique\",\"Namibie\",\"Niger\",\"Nig\\u00e9ria\",\"Ouganda\",\"R\\u00e9publique centrafricaine\",\"R\\u00e9publique-Unie de Tanzanie\",\"Rwanda\",\"S\\u00e9n\\u00e9gal\",\"Sierra Leone\",\"Soudan\",\"Tchad\",\"Togo\",\"Tunisie\",\"Zambie\",\"Zimbabwe\",\"Argentine\",\"Bolivie (\\u00c9tat plurinational de)\",\"Chili\",\"Colombie\",\"Costa Rica\",\"El Salvador\",\"\\u00c9quateur\",\"Guatemala\",\"Ha\\u00efti\",\"Honduras\",\"Jama\\u00efque\",\"Mexique\",\"Nicaragua\",\"Panama\",\"Paraguay\",\"P\\u00e9rou\",\"R\\u00e9publique dominicaine\",\"Venezuela (R\\u00e9publique bolivarienne du)\",\"Afghanistan\",\"Arabie saoudite\",\"Arm\\u00e9nie\",\"Bangladesh\",\"Cambodge\",\"Chine\",\"Chine, continentale\",\"Chine, Taiwan Province de\",\"\\u00c9mirats arabes unis\",\"G\\u00e9orgie\",\"Inde\",\"Indon\\u00e9sie\",\"Iran (R\\u00e9publique islamique d')\",\"Iraq\",\"Jordanie\",\"Kirghizistan\",\"Liban\",\"Malaisie\",\"Mongolie\",\"Myanmar\",\"N\\u00e9pal\",\"Oman\",\"Ouzb\\u00e9kistan\",\"Pakistan\",\"Philippines\",\"R\\u00e9publique d\\u00e9mocratique populaire lao\",\"R\\u00e9publique populaire d\\u00e9mocratique de Cor\\u00e9e\",\"Sri Lanka\",\"Tha\\u00eflande\",\"Timor-Leste\",\"Turkm\\u00e9nistan\",\"Viet Nam\",\"Y\\u00e9men\",\"Albanie\",\"Bulgarie\",\"Serbie\",\"Slovaquie\"],\"locationmode\":\"ISO-3\",\"locations\":[\"ZAF\",\"DZA\",\"AGO\",\"BEN\",\"BWA\",\"BFA\",\"CMR\",\"COG\",\"CIV\",\"DJI\",\"EGY\",\"SWZ\",\"ETH\",\"GAB\",\"GMB\",\"GHA\",\"GIN\",\"GNB\",\"KEN\",\"LSO\",\"LBR\",\"MDG\",\"MWI\",\"MLI\",\"MAR\",\"MRT\",\"MOZ\",\"NAM\",\"NER\",\"NGA\",\"UGA\",\"CAF\",\"TZA\",\"RWA\",\"SEN\",\"SLE\",\"SDN\",\"TCD\",\"TGO\",\"TUN\",\"ZMB\",\"ZWE\",\"ARG\",\"BOL\",\"CHL\",\"COL\",\"CRI\",\"SLV\",\"ECU\",\"GTM\",\"HTI\",\"HND\",\"JAM\",\"MEX\",\"NIC\",\"PAN\",\"PRY\",\"PER\",\"DOM\",\"VEN\",\"AFG\",\"SAU\",\"ARM\",\"BGD\",\"KHM\",\"CHN\",\"F41\",\"TWN\",\"ARE\",\"GEO\",\"IND\",\"IDN\",\"IRN\",\"IRQ\",\"JOR\",\"KGZ\",\"LBN\",\"MYS\",\"MNG\",\"MMR\",\"NPL\",\"OMN\",\"UZB\",\"PAK\",\"PHL\",\"LAO\",\"PRK\",\"LKA\",\"THA\",\"TLS\",\"TKM\",\"VNM\",\"YEM\",\"ALB\",\"BGR\",\"SRB\",\"SVK\"],\"name\":\"\",\"z\":[2.6,1.8,8.0,1.0,0.5,3.5,1.6,1.8,4.7,0.2,3.9,0.3,25.5,0.2,0.2,1.7,1.9,0.4,9.3,0.3,1.6,8.2,3.7,1.0,1.4,0.3,7.7,0.7,1.9,12.2,12.6,2.1,16.5,3.5,1.8,1.7,9.3,4.9,1.3,0.5,7.0,6.7,1.5,2.2,0.6,4.2,0.3,0.7,1.3,2.6,5.2,1.3,0.3,5.4,1.1,0.4,0.8,2.8,1.3,1.8,8.1,1.6,0.1,26.4,2.8,137.3,136.2,1.0,0.4,0.3,213.1,19.1,4.2,9.3,0.9,0.4,0.5,1.0,0.5,6.5,2.6,0.2,2.2,38.4,14.0,1.2,10.4,2.4,6.1,0.3,0.3,11.1,7.1,0.2,0.3,0.5,0.2],\"type\":\"choropleth\"}],                        {\"template\":{\"data\":{\"histogram2dcontour\":[{\"type\":\"histogram2dcontour\",\"colorbar\":{\"outlinewidth\":0,\"ticks\":\"\"},\"colorscale\":[[0.0,\"#0d0887\"],[0.1111111111111111,\"#46039f\"],[0.2222222222222222,\"#7201a8\"],[0.3333333333333333,\"#9c179e\"],[0.4444444444444444,\"#bd3786\"],[0.5555555555555556,\"#d8576b\"],[0.6666666666666666,\"#ed7953\"],[0.7777777777777778,\"#fb9f3a\"],[0.8888888888888888,\"#fdca26\"],[1.0,\"#f0f921\"]]}],\"choropleth\":[{\"type\":\"choropleth\",\"colorbar\":{\"outlinewidth\":0,\"ticks\":\"\"}}],\"histogram2d\":[{\"type\":\"histogram2d\",\"colorbar\":{\"outlinewidth\":0,\"ticks\":\"\"},\"colorscale\":[[0.0,\"#0d0887\"],[0.1111111111111111,\"#46039f\"],[0.2222222222222222,\"#7201a8\"],[0.3333333333333333,\"#9c179e\"],[0.4444444444444444,\"#bd3786\"],[0.5555555555555556,\"#d8576b\"],[0.6666666666666666,\"#ed7953\"],[0.7777777777777778,\"#fb9f3a\"],[0.8888888888888888,\"#fdca26\"],[1.0,\"#f0f921\"]]}],\"heatmap\":[{\"type\":\"heatmap\",\"colorbar\":{\"outlinewidth\":0,\"ticks\":\"\"},\"colorscale\":[[0.0,\"#0d0887\"],[0.1111111111111111,\"#46039f\"],[0.2222222222222222,\"#7201a8\"],[0.3333333333333333,\"#9c179e\"],[0.4444444444444444,\"#bd3786\"],[0.5555555555555556,\"#d8576b\"],[0.6666666666666666,\"#ed7953\"],[0.7777777777777778,\"#fb9f3a\"],[0.8888888888888888,\"#fdca26\"],[1.0,\"#f0f921\"]]}],\"heatmapgl\":[{\"type\":\"heatmapgl\",\"colorbar\":{\"outlinewidth\":0,\"ticks\":\"\"},\"colorscale\":[[0.0,\"#0d0887\"],[0.1111111111111111,\"#46039f\"],[0.2222222222222222,\"#7201a8\"],[0.3333333333333333,\"#9c179e\"],[0.4444444444444444,\"#bd3786\"],[0.5555555555555556,\"#d8576b\"],[0.6666666666666666,\"#ed7953\"],[0.7777777777777778,\"#fb9f3a\"],[0.8888888888888888,\"#fdca26\"],[1.0,\"#f0f921\"]]}],\"contourcarpet\":[{\"type\":\"contourcarpet\",\"colorbar\":{\"outlinewidth\":0,\"ticks\":\"\"}}],\"contour\":[{\"type\":\"contour\",\"colorbar\":{\"outlinewidth\":0,\"ticks\":\"\"},\"colorscale\":[[0.0,\"#0d0887\"],[0.1111111111111111,\"#46039f\"],[0.2222222222222222,\"#7201a8\"],[0.3333333333333333,\"#9c179e\"],[0.4444444444444444,\"#bd3786\"],[0.5555555555555556,\"#d8576b\"],[0.6666666666666666,\"#ed7953\"],[0.7777777777777778,\"#fb9f3a\"],[0.8888888888888888,\"#fdca26\"],[1.0,\"#f0f921\"]]}],\"surface\":[{\"type\":\"surface\",\"colorbar\":{\"outlinewidth\":0,\"ticks\":\"\"},\"colorscale\":[[0.0,\"#0d0887\"],[0.1111111111111111,\"#46039f\"],[0.2222222222222222,\"#7201a8\"],[0.3333333333333333,\"#9c179e\"],[0.4444444444444444,\"#bd3786\"],[0.5555555555555556,\"#d8576b\"],[0.6666666666666666,\"#ed7953\"],[0.7777777777777778,\"#fb9f3a\"],[0.8888888888888888,\"#fdca26\"],[1.0,\"#f0f921\"]]}],\"mesh3d\":[{\"type\":\"mesh3d\",\"colorbar\":{\"outlinewidth\":0,\"ticks\":\"\"}}],\"scatter\":[{\"fillpattern\":{\"fillmode\":\"overlay\",\"size\":10,\"solidity\":0.2},\"type\":\"scatter\"}],\"parcoords\":[{\"type\":\"parcoords\",\"line\":{\"colorbar\":{\"outlinewidth\":0,\"ticks\":\"\"}}}],\"scatterpolargl\":[{\"type\":\"scatterpolargl\",\"marker\":{\"colorbar\":{\"outlinewidth\":0,\"ticks\":\"\"}}}],\"bar\":[{\"error_x\":{\"color\":\"#2a3f5f\"},\"error_y\":{\"color\":\"#2a3f5f\"},\"marker\":{\"line\":{\"color\":\"#E5ECF6\",\"width\":0.5},\"pattern\":{\"fillmode\":\"overlay\",\"size\":10,\"solidity\":0.2}},\"type\":\"bar\"}],\"scattergeo\":[{\"type\":\"scattergeo\",\"marker\":{\"colorbar\":{\"outlinewidth\":0,\"ticks\":\"\"}}}],\"scatterpolar\":[{\"type\":\"scatterpolar\",\"marker\":{\"colorbar\":{\"outlinewidth\":0,\"ticks\":\"\"}}}],\"histogram\":[{\"marker\":{\"pattern\":{\"fillmode\":\"overlay\",\"size\":10,\"solidity\":0.2}},\"type\":\"histogram\"}],\"scattergl\":[{\"type\":\"scattergl\",\"marker\":{\"colorbar\":{\"outlinewidth\":0,\"ticks\":\"\"}}}],\"scatter3d\":[{\"type\":\"scatter3d\",\"line\":{\"colorbar\":{\"outlinewidth\":0,\"ticks\":\"\"}},\"marker\":{\"colorbar\":{\"outlinewidth\":0,\"ticks\":\"\"}}}],\"scattermapbox\":[{\"type\":\"scattermapbox\",\"marker\":{\"colorbar\":{\"outlinewidth\":0,\"ticks\":\"\"}}}],\"scatterternary\":[{\"type\":\"scatterternary\",\"marker\":{\"colorbar\":{\"outlinewidth\":0,\"ticks\":\"\"}}}],\"scattercarpet\":[{\"type\":\"scattercarpet\",\"marker\":{\"colorbar\":{\"outlinewidth\":0,\"ticks\":\"\"}}}],\"carpet\":[{\"aaxis\":{\"endlinecolor\":\"#2a3f5f\",\"gridcolor\":\"white\",\"linecolor\":\"white\",\"minorgridcolor\":\"white\",\"startlinecolor\":\"#2a3f5f\"},\"baxis\":{\"endlinecolor\":\"#2a3f5f\",\"gridcolor\":\"white\",\"linecolor\":\"white\",\"minorgridcolor\":\"white\",\"startlinecolor\":\"#2a3f5f\"},\"type\":\"carpet\"}],\"table\":[{\"cells\":{\"fill\":{\"color\":\"#EBF0F8\"},\"line\":{\"color\":\"white\"}},\"header\":{\"fill\":{\"color\":\"#C8D4E3\"},\"line\":{\"color\":\"white\"}},\"type\":\"table\"}],\"barpolar\":[{\"marker\":{\"line\":{\"color\":\"#E5ECF6\",\"width\":0.5},\"pattern\":{\"fillmode\":\"overlay\",\"size\":10,\"solidity\":0.2}},\"type\":\"barpolar\"}],\"pie\":[{\"automargin\":true,\"type\":\"pie\"}]},\"layout\":{\"autotypenumbers\":\"strict\",\"colorway\":[\"#636efa\",\"#EF553B\",\"#00cc96\",\"#ab63fa\",\"#FFA15A\",\"#19d3f3\",\"#FF6692\",\"#B6E880\",\"#FF97FF\",\"#FECB52\"],\"font\":{\"color\":\"#2a3f5f\"},\"hovermode\":\"closest\",\"hoverlabel\":{\"align\":\"left\"},\"paper_bgcolor\":\"white\",\"plot_bgcolor\":\"#E5ECF6\",\"polar\":{\"bgcolor\":\"#E5ECF6\",\"angularaxis\":{\"gridcolor\":\"white\",\"linecolor\":\"white\",\"ticks\":\"\"},\"radialaxis\":{\"gridcolor\":\"white\",\"linecolor\":\"white\",\"ticks\":\"\"}},\"ternary\":{\"bgcolor\":\"#E5ECF6\",\"aaxis\":{\"gridcolor\":\"white\",\"linecolor\":\"white\",\"ticks\":\"\"},\"baxis\":{\"gridcolor\":\"white\",\"linecolor\":\"white\",\"ticks\":\"\"},\"caxis\":{\"gridcolor\":\"white\",\"linecolor\":\"white\",\"ticks\":\"\"}},\"coloraxis\":{\"colorbar\":{\"outlinewidth\":0,\"ticks\":\"\"}},\"colorscale\":{\"sequential\":[[0.0,\"#0d0887\"],[0.1111111111111111,\"#46039f\"],[0.2222222222222222,\"#7201a8\"],[0.3333333333333333,\"#9c179e\"],[0.4444444444444444,\"#bd3786\"],[0.5555555555555556,\"#d8576b\"],[0.6666666666666666,\"#ed7953\"],[0.7777777777777778,\"#fb9f3a\"],[0.8888888888888888,\"#fdca26\"],[1.0,\"#f0f921\"]],\"sequentialminus\":[[0.0,\"#0d0887\"],[0.1111111111111111,\"#46039f\"],[0.2222222222222222,\"#7201a8\"],[0.3333333333333333,\"#9c179e\"],[0.4444444444444444,\"#bd3786\"],[0.5555555555555556,\"#d8576b\"],[0.6666666666666666,\"#ed7953\"],[0.7777777777777778,\"#fb9f3a\"],[0.8888888888888888,\"#fdca26\"],[1.0,\"#f0f921\"]],\"diverging\":[[0,\"#8e0152\"],[0.1,\"#c51b7d\"],[0.2,\"#de77ae\"],[0.3,\"#f1b6da\"],[0.4,\"#fde0ef\"],[0.5,\"#f7f7f7\"],[0.6,\"#e6f5d0\"],[0.7,\"#b8e186\"],[0.8,\"#7fbc41\"],[0.9,\"#4d9221\"],[1,\"#276419\"]]},\"xaxis\":{\"gridcolor\":\"white\",\"linecolor\":\"white\",\"ticks\":\"\",\"title\":{\"standoff\":15},\"zerolinecolor\":\"white\",\"automargin\":true,\"zerolinewidth\":2},\"yaxis\":{\"gridcolor\":\"white\",\"linecolor\":\"white\",\"ticks\":\"\",\"title\":{\"standoff\":15},\"zerolinecolor\":\"white\",\"automargin\":true,\"zerolinewidth\":2},\"scene\":{\"xaxis\":{\"backgroundcolor\":\"#E5ECF6\",\"gridcolor\":\"white\",\"linecolor\":\"white\",\"showbackground\":true,\"ticks\":\"\",\"zerolinecolor\":\"white\",\"gridwidth\":2},\"yaxis\":{\"backgroundcolor\":\"#E5ECF6\",\"gridcolor\":\"white\",\"linecolor\":\"white\",\"showbackground\":true,\"ticks\":\"\",\"zerolinecolor\":\"white\",\"gridwidth\":2},\"zaxis\":{\"backgroundcolor\":\"#E5ECF6\",\"gridcolor\":\"white\",\"linecolor\":\"white\",\"showbackground\":true,\"ticks\":\"\",\"zerolinecolor\":\"white\",\"gridwidth\":2}},\"shapedefaults\":{\"line\":{\"color\":\"#2a3f5f\"}},\"annotationdefaults\":{\"arrowcolor\":\"#2a3f5f\",\"arrowhead\":0,\"arrowwidth\":1},\"geo\":{\"bgcolor\":\"white\",\"landcolor\":\"#E5ECF6\",\"subunitcolor\":\"white\",\"showland\":true,\"showlakes\":true,\"lakecolor\":\"white\"},\"title\":{\"x\":0.05},\"mapbox\":{\"style\":\"light\"}}},\"geo\":{\"domain\":{\"x\":[0.0,1.0],\"y\":[0.0,1.0]},\"projection\":{\"type\":\"natural earth\"},\"center\":{}},\"coloraxis\":{\"colorbar\":{\"title\":{\"text\":\"Valeur\"}},\"colorscale\":[[0.0,\"#0d0887\"],[0.1111111111111111,\"#46039f\"],[0.2222222222222222,\"#7201a8\"],[0.3333333333333333,\"#9c179e\"],[0.4444444444444444,\"#bd3786\"],[0.5555555555555556,\"#d8576b\"],[0.6666666666666666,\"#ed7953\"],[0.7777777777777778,\"#fb9f3a\"],[0.8888888888888888,\"#fdca26\"],[1.0,\"#f0f921\"]]},\"legend\":{\"tracegroupgap\":0},\"margin\":{\"t\":60}},                        {\"responsive\": true}                    ).then(function(){\n",
       "                            \n",
       "var gd = document.getElementById('f78afa66-2581-46c4-bd64-2f3a1d1a6166');\n",
       "var x = new MutationObserver(function (mutations, observer) {{\n",
       "        var display = window.getComputedStyle(gd).display;\n",
       "        if (!display || display === 'none') {{\n",
       "            console.log([gd, 'removed!']);\n",
       "            Plotly.purge(gd);\n",
       "            observer.disconnect();\n",
       "        }}\n",
       "}});\n",
       "\n",
       "// Listen for the removal of the full notebook cells\n",
       "var notebookContainer = gd.closest('#notebook-container');\n",
       "if (notebookContainer) {{\n",
       "    x.observe(notebookContainer, {childList: true});\n",
       "}}\n",
       "\n",
       "// Listen for the clearing of the current output cell\n",
       "var outputEl = gd.closest('.output');\n",
       "if (outputEl) {{\n",
       "    x.observe(outputEl, {childList: true});\n",
       "}}\n",
       "\n",
       "                        })                };                });            </script>        </div>"
      ]
     },
     "metadata": {},
     "output_type": "display_data"
    }
   ],
   "source": [
    "from IPython.display import display\n",
    "import glob, sys \n",
    "import sqlite3 as sql\n",
    "import pandas as pd\n",
    "import numpy as np\n",
    "import plotly.express as px\n",
    "from colorama import Fore, Back, Style\n",
    "from functools import reduce\n",
    "from plotly.offline import plot, iplot, init_notebook_mode\n",
    "import plotly.graph_objs as go\n",
    "init_notebook_mode(connected=True)\n",
    "\n",
    "# Ouverture sqllite\n",
    "conn = sql.connect('continent.sqlite')\n",
    "\n",
    "# Noms de colonnes à utiliser\n",
    "names = ['Code Groupe de pays', 'Groupe de pays', 'Code Pays', 'Pays',\n",
    "       'Code M49', 'Code ISO2', 'Code ISO3']\n",
    "\n",
    "names_cols = ['Code Domaine', 'Domaine', 'Code Pays', 'Pays', 'Code Élément',\n",
    "       'Élément', 'Code Produit', 'Produit', 'Code année', 'Année', 'Unité',\n",
    "       'Valeur', 'Symbole', 'Description du Symbole']\n",
    "\n",
    "df = pd.read_csv('fao_2013/FAOSTAT_2013_Continent.csv', names=names, header=0)\n",
    "df_surfaces = pd.read_csv('fao_2013/FAOSTAT_2013_superficiepays.csv', names=names_cols, header=0)\n",
    "df_population = pd.read_csv('fao_2013/FAOSTAT_2013_population.csv', names=names_cols, header=0)\n",
    "\n",
    "df_surfaces.rename(columns={\"Valeur\" : \"Superficie\"}, inplace=True)\n",
    "df_population.rename(columns={\"Valeur\":\"Population\"}, inplace=True)\n",
    "df.to_sql('continents', conn, if_exists='replace')\n",
    "\n",
    "# requètes sql permettant de grouper les pays selon leur continent\n",
    "\n",
    "req_afrique = '''SELECT \"Code Pays\", Pays, \"Groupe de Pays\", \"Code ISO3\"  FROM continents \n",
    "WHERE continents.\"Groupe de Pays\" = \"Afrique\" '''\n",
    "\n",
    "req_asie = '''SELECT \"Code Pays\", Pays, \"Groupe de Pays\", \"Code ISO3\" FROM continents \n",
    "WHERE continents.\"Groupe de Pays\" = \"Asie\" '''\n",
    "\n",
    "req_europe = '''SELECT \"Code Pays\", Pays, \"Groupe de Pays\", \"Code ISO3\"  FROM continents \n",
    "WHERE continents.\"Groupe de Pays\" = \"Europe\" '''\n",
    "\n",
    "req_amerique = '''SELECT \"Code Pays\", Pays, \"Groupe de Pays\", \"Code ISO3\"  FROM continents \n",
    "WHERE continents.\"Groupe de Pays\" = \"Amériques\" '''\n",
    "\n",
    "req_oceanie= '''SELECT \"Code Pays\", Pays, \"Groupe de Pays\", \"Code ISO3\"  FROM continents \n",
    "WHERE continents.\"Groupe de Pays\" = \"Océanie\" '''\n",
    "\n",
    "df_afrique = pd.read_sql(req_afrique, conn)\n",
    "df_asie = pd.read_sql(req_asie, conn)\n",
    "df_europe = pd.read_sql(req_europe, conn)\n",
    "df_amerique = pd.read_sql(req_amerique, conn)\n",
    "df_oceanie = pd.read_sql(req_oceanie, conn)\n",
    "\n",
    "# print(df_afrique)\n",
    "# print(df_asie)\n",
    "# print(df_europe)\n",
    "# print(df_amerique)\n",
    "# print(df_oceanie)\n",
    "\n",
    "list_dfs = [df_afrique, df_amerique, df_asie, df_europe, df_oceanie]\n",
    "df_continents = reduce(lambda  left,right: pd.merge(left,right,on=['Code Pays', 'Pays', 'Code ISO3', 'Groupe de pays'], how='outer'), list_dfs)\n",
    "print(df_continents.columns)\n",
    "\n",
    "df_food = pd.read_csv('fao_2013/FAOSTAT_2013_sous_alimentation.csv', names=names_cols, header=0)\n",
    "df_food = df_food[[\"Code Pays\", \"Pays\", \"Valeur\"]]\n",
    "print(df_food.columns)\n",
    "df_result = pd.merge(df_continents, df_food, on=\"Code Pays\")\n",
    "del df_result[\"Pays_y\"]\n",
    "df_result.rename({\"Pays_x\":\"Pays\"}, inplace=True)\n",
    "display(df_result.columns)\n",
    "df_result.dropna(subset=[\"Valeur\"],inplace=True)\n",
    "\n",
    "display(df_result)\n",
    "fig = px.choropleth(df_result,               #dataframe\n",
    "                     locations= \"Code ISO3\",\n",
    "                     locationmode= \"ISO-3\" , #location code\n",
    "                     color = \"Valeur\",     #column shown by color\n",
    "                     hover_name = \"Pays_x\",  #hover info title \n",
    "                     # animation_frame = \"Code Pays\",#column animated\n",
    "                     projection = \"natural earth\" #type of map\n",
    "                     )\n",
    "\n",
    "fig.show()"
   ]
  },
  {
   "cell_type": "code",
   "execution_count": 7,
   "id": "8ff82e32",
   "metadata": {},
   "outputs": [
    {
     "ename": "FileNotFoundError",
     "evalue": "[Errno 2] No such file or directory: 'fao_2013/FAOSTAT_2013_continents.csv'",
     "output_type": "error",
     "traceback": [
      "\u001b[0;31m---------------------------------------------------------------------------\u001b[0m",
      "\u001b[0;31mFileNotFoundError\u001b[0m                         Traceback (most recent call last)",
      "\u001b[0;32m/tmp/ipykernel_20805/3855161056.py\u001b[0m in \u001b[0;36m<module>\u001b[0;34m\u001b[0m\n\u001b[1;32m      9\u001b[0m        'Valeur', 'Symbole', 'Description du Symbole']\n\u001b[1;32m     10\u001b[0m \u001b[0;34m\u001b[0m\u001b[0m\n\u001b[0;32m---> 11\u001b[0;31m \u001b[0mdf\u001b[0m \u001b[0;34m=\u001b[0m \u001b[0mpd\u001b[0m\u001b[0;34m.\u001b[0m\u001b[0mread_csv\u001b[0m\u001b[0;34m(\u001b[0m\u001b[0;34m'fao_2013/FAOSTAT_2013_continents.csv'\u001b[0m\u001b[0;34m,\u001b[0m \u001b[0mnames\u001b[0m\u001b[0;34m=\u001b[0m\u001b[0mnames\u001b[0m\u001b[0;34m,\u001b[0m \u001b[0mheader\u001b[0m\u001b[0;34m=\u001b[0m\u001b[0;36m0\u001b[0m\u001b[0;34m)\u001b[0m\u001b[0;34m\u001b[0m\u001b[0;34m\u001b[0m\u001b[0m\n\u001b[0m\u001b[1;32m     12\u001b[0m \u001b[0mdf\u001b[0m\u001b[0;34m.\u001b[0m\u001b[0mto_sql\u001b[0m\u001b[0;34m(\u001b[0m\u001b[0;34m'continents'\u001b[0m\u001b[0;34m,\u001b[0m \u001b[0mconn\u001b[0m\u001b[0;34m,\u001b[0m \u001b[0mif_exists\u001b[0m\u001b[0;34m=\u001b[0m\u001b[0;34m'replace'\u001b[0m\u001b[0;34m)\u001b[0m\u001b[0;34m\u001b[0m\u001b[0;34m\u001b[0m\u001b[0m\n\u001b[1;32m     13\u001b[0m \u001b[0;34m\u001b[0m\u001b[0m\n",
      "\u001b[0;32m~/anaconda3/lib/python3.9/site-packages/pandas/util/_decorators.py\u001b[0m in \u001b[0;36mwrapper\u001b[0;34m(*args, **kwargs)\u001b[0m\n\u001b[1;32m    309\u001b[0m                     \u001b[0mstacklevel\u001b[0m\u001b[0;34m=\u001b[0m\u001b[0mstacklevel\u001b[0m\u001b[0;34m,\u001b[0m\u001b[0;34m\u001b[0m\u001b[0;34m\u001b[0m\u001b[0m\n\u001b[1;32m    310\u001b[0m                 )\n\u001b[0;32m--> 311\u001b[0;31m             \u001b[0;32mreturn\u001b[0m \u001b[0mfunc\u001b[0m\u001b[0;34m(\u001b[0m\u001b[0;34m*\u001b[0m\u001b[0margs\u001b[0m\u001b[0;34m,\u001b[0m \u001b[0;34m**\u001b[0m\u001b[0mkwargs\u001b[0m\u001b[0;34m)\u001b[0m\u001b[0;34m\u001b[0m\u001b[0;34m\u001b[0m\u001b[0m\n\u001b[0m\u001b[1;32m    312\u001b[0m \u001b[0;34m\u001b[0m\u001b[0m\n\u001b[1;32m    313\u001b[0m         \u001b[0;32mreturn\u001b[0m \u001b[0mwrapper\u001b[0m\u001b[0;34m\u001b[0m\u001b[0;34m\u001b[0m\u001b[0m\n",
      "\u001b[0;32m~/anaconda3/lib/python3.9/site-packages/pandas/io/parsers/readers.py\u001b[0m in \u001b[0;36mread_csv\u001b[0;34m(filepath_or_buffer, sep, delimiter, header, names, index_col, usecols, squeeze, prefix, mangle_dupe_cols, dtype, engine, converters, true_values, false_values, skipinitialspace, skiprows, skipfooter, nrows, na_values, keep_default_na, na_filter, verbose, skip_blank_lines, parse_dates, infer_datetime_format, keep_date_col, date_parser, dayfirst, cache_dates, iterator, chunksize, compression, thousands, decimal, lineterminator, quotechar, quoting, doublequote, escapechar, comment, encoding, encoding_errors, dialect, error_bad_lines, warn_bad_lines, on_bad_lines, delim_whitespace, low_memory, memory_map, float_precision, storage_options)\u001b[0m\n\u001b[1;32m    676\u001b[0m     \u001b[0mkwds\u001b[0m\u001b[0;34m.\u001b[0m\u001b[0mupdate\u001b[0m\u001b[0;34m(\u001b[0m\u001b[0mkwds_defaults\u001b[0m\u001b[0;34m)\u001b[0m\u001b[0;34m\u001b[0m\u001b[0;34m\u001b[0m\u001b[0m\n\u001b[1;32m    677\u001b[0m \u001b[0;34m\u001b[0m\u001b[0m\n\u001b[0;32m--> 678\u001b[0;31m     \u001b[0;32mreturn\u001b[0m \u001b[0m_read\u001b[0m\u001b[0;34m(\u001b[0m\u001b[0mfilepath_or_buffer\u001b[0m\u001b[0;34m,\u001b[0m \u001b[0mkwds\u001b[0m\u001b[0;34m)\u001b[0m\u001b[0;34m\u001b[0m\u001b[0;34m\u001b[0m\u001b[0m\n\u001b[0m\u001b[1;32m    679\u001b[0m \u001b[0;34m\u001b[0m\u001b[0m\n\u001b[1;32m    680\u001b[0m \u001b[0;34m\u001b[0m\u001b[0m\n",
      "\u001b[0;32m~/anaconda3/lib/python3.9/site-packages/pandas/io/parsers/readers.py\u001b[0m in \u001b[0;36m_read\u001b[0;34m(filepath_or_buffer, kwds)\u001b[0m\n\u001b[1;32m    573\u001b[0m \u001b[0;34m\u001b[0m\u001b[0m\n\u001b[1;32m    574\u001b[0m     \u001b[0;31m# Create the parser.\u001b[0m\u001b[0;34m\u001b[0m\u001b[0;34m\u001b[0m\u001b[0m\n\u001b[0;32m--> 575\u001b[0;31m     \u001b[0mparser\u001b[0m \u001b[0;34m=\u001b[0m \u001b[0mTextFileReader\u001b[0m\u001b[0;34m(\u001b[0m\u001b[0mfilepath_or_buffer\u001b[0m\u001b[0;34m,\u001b[0m \u001b[0;34m**\u001b[0m\u001b[0mkwds\u001b[0m\u001b[0;34m)\u001b[0m\u001b[0;34m\u001b[0m\u001b[0;34m\u001b[0m\u001b[0m\n\u001b[0m\u001b[1;32m    576\u001b[0m \u001b[0;34m\u001b[0m\u001b[0m\n\u001b[1;32m    577\u001b[0m     \u001b[0;32mif\u001b[0m \u001b[0mchunksize\u001b[0m \u001b[0;32mor\u001b[0m \u001b[0miterator\u001b[0m\u001b[0;34m:\u001b[0m\u001b[0;34m\u001b[0m\u001b[0;34m\u001b[0m\u001b[0m\n",
      "\u001b[0;32m~/anaconda3/lib/python3.9/site-packages/pandas/io/parsers/readers.py\u001b[0m in \u001b[0;36m__init__\u001b[0;34m(self, f, engine, **kwds)\u001b[0m\n\u001b[1;32m    930\u001b[0m \u001b[0;34m\u001b[0m\u001b[0m\n\u001b[1;32m    931\u001b[0m         \u001b[0mself\u001b[0m\u001b[0;34m.\u001b[0m\u001b[0mhandles\u001b[0m\u001b[0;34m:\u001b[0m \u001b[0mIOHandles\u001b[0m \u001b[0;34m|\u001b[0m \u001b[0;32mNone\u001b[0m \u001b[0;34m=\u001b[0m \u001b[0;32mNone\u001b[0m\u001b[0;34m\u001b[0m\u001b[0;34m\u001b[0m\u001b[0m\n\u001b[0;32m--> 932\u001b[0;31m         \u001b[0mself\u001b[0m\u001b[0;34m.\u001b[0m\u001b[0m_engine\u001b[0m \u001b[0;34m=\u001b[0m \u001b[0mself\u001b[0m\u001b[0;34m.\u001b[0m\u001b[0m_make_engine\u001b[0m\u001b[0;34m(\u001b[0m\u001b[0mf\u001b[0m\u001b[0;34m,\u001b[0m \u001b[0mself\u001b[0m\u001b[0;34m.\u001b[0m\u001b[0mengine\u001b[0m\u001b[0;34m)\u001b[0m\u001b[0;34m\u001b[0m\u001b[0;34m\u001b[0m\u001b[0m\n\u001b[0m\u001b[1;32m    933\u001b[0m \u001b[0;34m\u001b[0m\u001b[0m\n\u001b[1;32m    934\u001b[0m     \u001b[0;32mdef\u001b[0m \u001b[0mclose\u001b[0m\u001b[0;34m(\u001b[0m\u001b[0mself\u001b[0m\u001b[0;34m)\u001b[0m\u001b[0;34m:\u001b[0m\u001b[0;34m\u001b[0m\u001b[0;34m\u001b[0m\u001b[0m\n",
      "\u001b[0;32m~/anaconda3/lib/python3.9/site-packages/pandas/io/parsers/readers.py\u001b[0m in \u001b[0;36m_make_engine\u001b[0;34m(self, f, engine)\u001b[0m\n\u001b[1;32m   1214\u001b[0m             \u001b[0;31m# \"Union[str, PathLike[str], ReadCsvBuffer[bytes], ReadCsvBuffer[str]]\"\u001b[0m\u001b[0;34m\u001b[0m\u001b[0;34m\u001b[0m\u001b[0m\n\u001b[1;32m   1215\u001b[0m             \u001b[0;31m# , \"str\", \"bool\", \"Any\", \"Any\", \"Any\", \"Any\", \"Any\"\u001b[0m\u001b[0;34m\u001b[0m\u001b[0;34m\u001b[0m\u001b[0m\n\u001b[0;32m-> 1216\u001b[0;31m             self.handles = get_handle(  # type: ignore[call-overload]\n\u001b[0m\u001b[1;32m   1217\u001b[0m                 \u001b[0mf\u001b[0m\u001b[0;34m,\u001b[0m\u001b[0;34m\u001b[0m\u001b[0;34m\u001b[0m\u001b[0m\n\u001b[1;32m   1218\u001b[0m                 \u001b[0mmode\u001b[0m\u001b[0;34m,\u001b[0m\u001b[0;34m\u001b[0m\u001b[0;34m\u001b[0m\u001b[0m\n",
      "\u001b[0;32m~/anaconda3/lib/python3.9/site-packages/pandas/io/common.py\u001b[0m in \u001b[0;36mget_handle\u001b[0;34m(path_or_buf, mode, encoding, compression, memory_map, is_text, errors, storage_options)\u001b[0m\n\u001b[1;32m    784\u001b[0m         \u001b[0;32mif\u001b[0m \u001b[0mioargs\u001b[0m\u001b[0;34m.\u001b[0m\u001b[0mencoding\u001b[0m \u001b[0;32mand\u001b[0m \u001b[0;34m\"b\"\u001b[0m \u001b[0;32mnot\u001b[0m \u001b[0;32min\u001b[0m \u001b[0mioargs\u001b[0m\u001b[0;34m.\u001b[0m\u001b[0mmode\u001b[0m\u001b[0;34m:\u001b[0m\u001b[0;34m\u001b[0m\u001b[0;34m\u001b[0m\u001b[0m\n\u001b[1;32m    785\u001b[0m             \u001b[0;31m# Encoding\u001b[0m\u001b[0;34m\u001b[0m\u001b[0;34m\u001b[0m\u001b[0m\n\u001b[0;32m--> 786\u001b[0;31m             handle = open(\n\u001b[0m\u001b[1;32m    787\u001b[0m                 \u001b[0mhandle\u001b[0m\u001b[0;34m,\u001b[0m\u001b[0;34m\u001b[0m\u001b[0;34m\u001b[0m\u001b[0m\n\u001b[1;32m    788\u001b[0m                 \u001b[0mioargs\u001b[0m\u001b[0;34m.\u001b[0m\u001b[0mmode\u001b[0m\u001b[0;34m,\u001b[0m\u001b[0;34m\u001b[0m\u001b[0;34m\u001b[0m\u001b[0m\n",
      "\u001b[0;31mFileNotFoundError\u001b[0m: [Errno 2] No such file or directory: 'fao_2013/FAOSTAT_2013_continents.csv'"
     ]
    }
   ],
   "source": [
    "conn = sql.connect('continent.sqlite')\n",
    "\n",
    "# Noms de colonnes à utiliser\n",
    "names = ['Code Groupe de pays', 'Groupe de pays', 'Code Pays', 'Pays',\n",
    "       'Code M49', 'Code ISO2', 'Code ISO3']\n",
    "\n",
    "names_cols = ['Code Domaine', 'Domaine', 'Code Pays', 'Pays', 'Code Élément',\n",
    "       'Élément', 'Code Produit', 'Produit', 'Code année', 'Année', 'Unité',\n",
    "       'Valeur', 'Symbole', 'Description du Symbole']\n",
    "\n",
    "df = pd.read_csv('fao_2013/FAOSTAT_2013_Continent.csv', names=names, header=0)\n",
    "df.to_sql('continents', conn, if_exists='replace')\n",
    "\n",
    "\n",
    "import pandas as pd\n",
    "\n",
    "df_densite = {'Code ISO3' : [\"AFG\", \"ZAF\", \"ALB\", \"DZA\", \"DEU\", \"AGO\", \"SAU\", \"ARG\", \"ARM\", \"AUS\", \"AUT\", \"AZE\", \"BHR\", \"BGD\", \"BLR\", \"BEL\", \"BEN\", \"BTN\", \"BOL\", \"BIH\", \"BWA\", \"BRA\", \"BGR\", \"BFA\", \"BDI\", \"KHM\", \"CMR\", \"CAN\", \"CPV\", \"CAF\", \"CHL\", \"CHN\", \"CYP\", \"COL\", \"COM\", \"COG\", \"COD\", \"PRK\", \"KOR\", \"CRI\", \"CIV\", \"HRV\", \"CUB\", \"DNK\", \"DJI\", \"DOM\", \"EGY\", \"ARE\", \"ECU\", \"ERI\", \"ESP\", \"EST\", \"SWZ\", \"USA\", \"ETH\", \"FIN\", \"FRA\", \"GAB\", \"GMB\", \"GEO\", \"GHA\", \"GRC\", \"GTM\", \"GIN\", \"GNQ\", \"GNB\", \"GUY\", \"HTI\", \"HND\", \"HUN\", \"IND\", \"IDN\", \"IRQ\", \"IRN\", \"IRL\", \"ISL\", \"ISR\", \"ITA\", \"JAM\", \"JPN\", \"JOR\", \"KAZ\", \"KEN\", \"KGZ\", \"KSV\", \"KWT\", \"LAO\", \"LSO\", \"LVA\", \"LBN\", \"LBR\", \"LBY\", \"LTU\", \"LUX\", \"MKD\", \"MDG\", \"MYS\", \"MWI\", \"MLI\", \"MAR\", \"MUS\", \"MRT\", \"MEX\", \"MDA\", \"MNG\", \"MON\", \"MOZ\", \"MMR\", \"NAM\", \"NPL\", \"NIC\", \"NER\", \"NGA\", \"NOR\", \"NZL\", \"OMN\", \"UGA\", \"UZB\", \"PAK\", \"PAN\", \"PNG\", \"PRY\", \"NLD\", \"PER\", \"PHL\", \"POL\", \"PRT\", \"QAT\", \"ROM\", \"GBR\", \"RUS\", \"RWA\", \"SLV\", \"SEN\", \"YUG\", \"SLE\", \"SGP\", \"SVK\", \"SVN\", \"SOM\", \"SDN\", \"SSD\", \"LKA\", \"SWE\", \"CHE\", \"SUR\", \"SYR\", \"TJK\", \"TZA\", \"TCD\", \"CZE\", \"THA\", \"TGO\", \"TTO\", \"TUN\", \"TKM\", \"TUR\", \"UKR\", \"URY\", \"VEN\", \"VNM\", \"YEM\", \"ZMB\", \"ZWE\"],\n",
    "              'Pays' : [\"Afghanistan\", \"Afrique du Sud\", \"Albanie\", \"Algérie\", \"Allemagne\", \"Angola\", \"Arabie Saoudite\", \"Argentine\", \"Arménie\", \"Australie\", \"Autriche\", \"Azerbaïdjan\", \"Bahreïn\", \"Bangladesh\", \"Belarus\", \"Belgique\", \"Bénin \", \"Bhoutan\", \"Bolivie\", \"Bosnie-Herzégovine\", \"Botswana\", \"Brésil\", \"Bulgarie\", \"Burkina Faso\", \"Burundi\", \"Cambodge\", \"Cameroun\", \"Canada\", \"Cap-Vert\", \"Centrafricaine (rep)\", \"Chili\", \"Chine\", \"Chypre\", \"Colombie\", \"Comores(Les)\", \"Congo\", \"Congo (rep. dem.)\", \"Corée du Nord\", \"Corée du Sud\", \"Costa Rica\", \"Côte d'Ivoire\", \"Croatie\", \"Cuba\", \"Danemark\", \"Djibouti\", \"Dominicaine (Rep)\", \"Égypte\", \"Émirats arabes unis\", \"Équateur\", \"Érythrée\", \"Espagne\", \"Estonie\", \"Eswatini\", \"États-Unis\", \"Éthiopie\", \"Finlande\", \"France\", \"Gabon\", \"Gambie\", \"Géorgie\", \"Ghana\", \"Grèce\", \"Guatemala\", \"Guinée\", \"Guinée équatoriale\", \"Guinée-Bissau\", \"Guyana\", \"Haïti\", \"Honduras\", \"Hongrie\", \"Inde\", \"Indonésie\", \"Irak\", \"Iran\", \"Irlande\", \"Islande\", \"Israël\", \"Italie\", \"Jamaïque\", \"Japon\", \"Jordanie\", \"Kazakhstan\", \"Kenya\", \"Kirghizstan\", \"Kosovo\", \"Koweït\", \"Laos\", \"Lesotho\", \"Lettonie\", \"Liban\", \"Liberia\", \"Libye\", \"Lituanie\", \"Luxembourg\", \"Macédoine du Nord\", \"Madagascar\", \"Malaisie\", \"Malawi\", \"Mali\", \"Maroc\", \"Maurice\", \"Mauritanie\", \"Mexique\", \"Moldavie\", \"Mongolie\", \"Monténégro\", \"Mozambique\", \"Myanmar\", \"Namibie\", \"Népal\", \"Nicaragua\", \"Niger\", \"Nigeria\", \"Norvège\", \"Nouvelle-Zélande\", \"Oman\", \"Ouganda\", \"Ouzbékistan\", \"Pakistan\", \"Panama\", \"Papouasie-Nouvelle-G.\", \"Paraguay\", \"Pays-Bas\", \"Pérou\", \"Philippines\", \"Pologne\", \"Portugal\", \"Qatar\", \"Roumanie\", \"Royaume-Uni\", \"Russie\", \"Rwanda\", \"Salvador\", \"Sénégal\", \"Serbie\", \"Sierra Leone\", \"Singapour\", \"Slovaquie\", \"Slovénie\", \"Somalie\", \"Soudan\", \"Soudan du Sud\", \"Sri Lanka\", \"Suède\", \"Suisse\", \"Suriname\", \"Syrie\", \"Tadjikistan\", \"Tanzanie\", \"Tchad\", \"Tchèque (Rép)\", \"Thaïlande\", \"Togo\", \"Trinité-et-Tobago\", \"Tunisie\", \"Turkménistan\", \"Turquie\", \"Ukraine\", \"Uruguay\", \"Venezuela\", \"Vietnam\", \"Yémen\", \"Zambie\", \"Zimbabwe\"],\n",
    "              'Densite' : [49.475786149058, 44.25650611249, 105.6602919708, 16.013559414546, 231.15571256593, 20.86771957969, 13.979717075485, 15.421160233713, 101.77706357569, 3.0105735261575, 102.760821619, 113.92348080669, 1707.8298701299, 1173.5531458862, 46.539372523508, 368.54052179656, 88.724671869457, 18.633024634677, 9.7317225145389, 69.1913671875, 3.6393891270976, 24.052708377701, 66.922577376566, 62.400551900585, 371.50708722741, 85.125368230229, 46.703687250111, 3.9130669593412, 126.98263027295, 7.1397877941507, 23.632487909061, 144.64543295393, 123.79502164502, 41.906707525913, 398.44760881247, 13.536623718887, 31.476502062151, 207.03845195582, 517.6122698253, 92.87330591461, 69.457566037736, 76.043331427346, 108.2587027442, 140.3733, 38.10595340811, 207.99474228938, 88.808731729369, 129.51151788229, 63.244777741987, 27.108406214534, 93.200945602847, 30.319691741431, 63.188546511628, 34.551813188855, 84.519010699439, 17.89783145217, 120.53299473845, 7.0519268832227, 194.04229249012, 65.041953882221, 116.93610354223, 85.067579519007, 140.38802724897, 44.330217320527, 38.374759358289, 58.615184921764, 3.8571551943104, 377.38287373004, 78.635481276254, 109.27959792334, 430.79726455423, 134.11598710852, 76.376232355434, 46.957171713451, 67.118827115692, 3.229566084788, 372.43530499076, 203.6871208381, 263.9621421976, 349.64334705075, 95.956206352782, 6.3101644627181, 79.980296587834, 29.820646506778, 167.5484523, 197.88900112233, 28.341863084922, 66.81581027668, 32.343628971347, 578.00742913001, 44.106488787375, 3.5920467849552, 47.190889509374, 211.05785290896, 81.84107850912, 39.465897215538, 89.693876122356, 168.00261985575, 13.481387324925, 75.544936141609, 620.02610837438, 3.7037906277287, 61.126653463309, 99.547027892886, 1.8505553702068, 46.18639405, 32.504326152751, 79.396802841918, 2.7129031082608, 187.76975933031, 50.377779624397, 14.6082632036, 188.59406765704, 13.912088683768, 16.870229007634, 12.164151857835, 178.00976959904, 69.39872277639, 248.10709708385, 51.593314500942, 17.198224616879, 16.386289957211, 498.79584446423, 23.2609265625, 331.59458698058, 124.22911074099, 114.15612869138, 201.25572782084, 86.87429031, 265.06953664283, 8.7627852575004, 438.24637211188, 302.41679536679, 71.58587752558, 81.91324034, 95.095247991133, 7636.7213578501, 112.57263766428, 102.28167825223, 20.823972646412, 19.846121520343, 16.386356083744, 328.25705629086, 23.568483504063, 204.7106488511, 3.5083012820513, 106.6191036323, 57.58632466419, 54.733723188079, 10.499073221093, 136.15995855996, 133.38393587661, 127.8676411105, 263.88070175439, 70.500444129763, 11.419522056477, 98.651889869158, 78.522488434717, 19.365992458005, 33.763444249192, 289.93759666906, 47.629812299941, 20.079031194931, 34.510476929042]}\n",
    "\n",
    "df_densite=pd.DataFrame(df_densite)\n",
    "df_densite=pd.DataFrame(df_densite)\n",
    "#Imprimer la df_densite (vision tronquée)\n",
    "df_densite[\"Densite\"] = np.log(df_densite['Densite'])\n",
    "print(df_densite.columns)\n",
    "\n",
    "# requètes sql permettant de grouper les pays selon leur continent\n",
    "\n",
    "req_afrique = '''SELECT \"Code Pays\", Pays, \"Groupe de Pays\", \"Code ISO3\"  FROM continents \n",
    "WHERE continents.\"Groupe de Pays\" = \"Afrique\" '''\n",
    "\n",
    "req_asie = '''SELECT \"Code Pays\", Pays, \"Groupe de Pays\", \"Code ISO3\" FROM continents \n",
    "WHERE continents.\"Groupe de Pays\" = \"Asie\" '''\n",
    "\n",
    "req_europe = '''SELECT \"Code Pays\", Pays, \"Groupe de Pays\", \"Code ISO3\"  FROM continents \n",
    "WHERE continents.\"Groupe de Pays\" = \"Europe\" '''\n",
    "\n",
    "req_amerique = '''SELECT \"Code Pays\", Pays, \"Groupe de Pays\", \"Code ISO3\"  FROM continents \n",
    "WHERE continents.\"Groupe de Pays\" = \"Amériques\" '''\n",
    "\n",
    "req_oceanie= '''SELECT \"Code Pays\", Pays, \"Groupe de Pays\", \"Code ISO3\"  FROM continents \n",
    "WHERE continents.\"Groupe de Pays\" = \"Océanie\" '''\n",
    "\n",
    "df_afrique = pd.read_sql(req_afrique, conn)\n",
    "df_asie = pd.read_sql(req_asie, conn)\n",
    "df_europe = pd.read_sql(req_europe, conn)\n",
    "df_amerique = pd.read_sql(req_amerique, conn)\n",
    "df_oceanie = pd.read_sql(req_oceanie, conn)\n",
    "\n",
    "# print(df_afrique)\n",
    "# print(df_asie)\n",
    "# print(df_europe)\n",
    "# print(df_amerique)\n",
    "# print(df_oceanie)\n",
    "\n",
    "list_dfs = [df_afrique, df_amerique, df_asie, df_europe, df_oceanie]\n",
    "df_continents = reduce(lambda  left,right: pd.merge(left,right,on=['Code Pays', 'Pays', 'Code ISO3', 'Groupe de pays'], how='outer'), list_dfs)\n",
    "print(df_continents.columns)\n",
    "\n",
    "df_final = df_continents.merge(df_densite[['Code ISO3', 'Densite']], on='Code ISO3', how='outer')\n",
    "df_final.rename(columns={'Groupe de pays':'Continent'}, inplace=True)\n",
    "df_final = df_final.dropna()\n",
    "display(df_final)\n",
    "\n",
    "\n",
    "\n",
    "\n",
    "fig = px.scatter_geo(df_final,               #dataframe\n",
    "                     locations= \"Code ISO3\",\n",
    "                     locationmode= \"ISO-3\" , #location code\n",
    "                     color = \"Continent\",     #column shown by color\n",
    "                     hover_name = \"Pays\",  #hover info title \n",
    "                     size = \"Densite\",     #column shown by size\n",
    "                     # animation_frame = \"Code Pays\",#column animated\n",
    "                     projection = \"natural earth\" #type of map\n",
    "                     )\n",
    "\n",
    "fig.show()"
   ]
  },
  {
   "cell_type": "code",
   "execution_count": null,
   "id": "f11a6091",
   "metadata": {},
   "outputs": [],
   "source": []
  }
 ],
 "metadata": {
  "kernelspec": {
   "display_name": "base",
   "language": "python",
   "name": "python3"
  },
  "language_info": {
   "codemirror_mode": {
    "name": "ipython",
    "version": 3
   },
   "file_extension": ".py",
   "mimetype": "text/x-python",
   "name": "python",
   "nbconvert_exporter": "python",
   "pygments_lexer": "ipython3",
   "version": "3.9.13"
  },
  "vscode": {
   "interpreter": {
    "hash": "70cfd609d7ba4145b3fedff821ecc63fd4c765afddbe882b67e97f0bba880cb4"
   }
  }
 },
 "nbformat": 4,
 "nbformat_minor": 5
}
